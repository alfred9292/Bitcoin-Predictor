{
 "cells": [
  {
   "cell_type": "code",
   "execution_count": 1,
   "metadata": {},
   "outputs": [],
   "source": [
    "from sklearn import metrics as mr\n",
    "from sklearn.metrics.cluster import normalized_mutual_info_score\n",
    "import pandas\n",
    "import numpy as np\n",
    "from pandas import Series \n",
    "from pandas import read_csv\n",
    "from sklearn.feature_selection import mutual_info_regression"
   ]
  },
  {
   "cell_type": "code",
   "execution_count": 4,
   "metadata": {},
   "outputs": [
    {
     "name": "stdout",
     "output_type": "stream",
     "text": [
      "[0.92837536]\n"
     ]
    }
   ],
   "source": [
    "# mutual information between bitcoin close price and volume\n",
    "df = read_csv('Final.csv',header=0)\n",
    "array=df.values\n",
    "#print(array)\n",
    "vol=array[:,2].reshape(-1, 1)\n",
    "z=array[:,1]\n",
    "#i1=mr.mutual_info_score(vol,z)\n",
    "#n1=normalized_mutual_info_score(vol,z)\n",
    "mi=mutual_info_regression(vol, z, discrete_features='auto',n_neighbors=3, copy=True, random_state=None)\n",
    "#print(i1)\n",
    "print(mi)\n"
   ]
  },
  {
   "cell_type": "code",
   "execution_count": 5,
   "metadata": {},
   "outputs": [
    {
     "name": "stdout",
     "output_type": "stream",
     "text": [
      "[0.89933391]\n"
     ]
    }
   ],
   "source": [
    "# mutual information between bitcoin close price and number of bitcoin address\n",
    "add=array[:,3].reshape(-1, 1)\n",
    "#i2=mr.mutual_info_score(add,z).reshape(-1, 1)\n",
    "#n2=normalized_mutual_info_score(add,z)\n",
    "#print(i2)\n",
    "m2=mi=mutual_info_regression(add,z, discrete_features='auto',n_neighbors=3, copy=True, random_state=None)\n",
    "print(m2)"
   ]
  },
  {
   "cell_type": "code",
   "execution_count": 6,
   "metadata": {},
   "outputs": [
    {
     "name": "stdout",
     "output_type": "stream",
     "text": [
      "[0.68816544]\n"
     ]
    }
   ],
   "source": [
    "# mutual information between bitcoin close price and number of bitcoin transactions\n",
    "trn=array[:,4].reshape(-1, 1)\n",
    "#i3=mr.mutual_info_score(trn,z)\n",
    "#n3=normalized_mutual_info_score(trn,z)\n",
    "m3=mutual_info_regression(trn,z, discrete_features='auto',n_neighbors=3, copy=True, random_state=None)\n",
    "#print(i3)\n",
    "print(m3)"
   ]
  },
  {
   "cell_type": "code",
   "execution_count": 7,
   "metadata": {},
   "outputs": [
    {
     "name": "stdout",
     "output_type": "stream",
     "text": [
      "[2.82766785]\n"
     ]
    }
   ],
   "source": [
    "# mutual information between bitcoin close price and mining difficulty\n",
    "diff=array[:,5].reshape(-1, 1)\n",
    "#i4=mr.mutual_info_score(diff,z)\n",
    "#n4=normalized_mutual_info_score(diff,z)\n",
    "#print(i4)\n",
    "m4=mutual_info_regression(diff,z, discrete_features='auto',n_neighbors=3, copy=True, random_state=None)\n",
    "print(m4)"
   ]
  },
  {
   "cell_type": "code",
   "execution_count": 8,
   "metadata": {},
   "outputs": [
    {
     "name": "stdout",
     "output_type": "stream",
     "text": [
      "[0.08281708]\n"
     ]
    }
   ],
   "source": [
    "# mutual information between bitcoin close price and mine a block min\n",
    "minimun=array[:,6].reshape(-1, 1)\n",
    "m6=mutual_info_regression(minimun,z, discrete_features='auto',n_neighbors=3, copy=True, random_state=None)\n",
    "print(m6)\n"
   ]
  },
  {
   "cell_type": "code",
   "execution_count": 9,
   "metadata": {},
   "outputs": [
    {
     "name": "stdout",
     "output_type": "stream",
     "text": [
      "[0.60963019]\n"
     ]
    }
   ],
   "source": [
    "# mutual information between bitcoin close price and block size\n",
    "blocksize=array[:,7].reshape(-1, 1)\n",
    "m7=mutual_info_regression(blocksize,z, discrete_features='auto',n_neighbors=3, copy=True, random_state=None)\n",
    "print(m7)"
   ]
  },
  {
   "cell_type": "code",
   "execution_count": 10,
   "metadata": {},
   "outputs": [
    {
     "name": "stdout",
     "output_type": "stream",
     "text": [
      "[2.18129813]\n"
     ]
    }
   ],
   "source": [
    "# mutual information between bitcoin close price and litecoin price\n",
    "lite=array[:,8].reshape(-1, 1)\n",
    "m8=mutual_info_regression(lite,z, discrete_features='auto',n_neighbors=3, copy=True, random_state=None)\n",
    "print(m8)"
   ]
  },
  {
   "cell_type": "code",
   "execution_count": 11,
   "metadata": {},
   "outputs": [
    {
     "name": "stdout",
     "output_type": "stream",
     "text": [
      "[1.07938475]\n"
     ]
    }
   ],
   "source": [
    "# mutual information between bitcoin close price and gold price\n",
    "gold=array[:,9].reshape(-1, 1)\n",
    "#i6=mr.mutual_info_score(gold,z)\n",
    "#n6=normalized_mutual_info_score(gold,z)\n",
    "m9=mutual_info_regression(gold,z, discrete_features='auto',n_neighbors=3, copy=True, random_state=None)\n",
    "#print(i6)\n",
    "print(m9)"
   ]
  },
  {
   "cell_type": "code",
   "execution_count": 12,
   "metadata": {},
   "outputs": [
    {
     "name": "stdout",
     "output_type": "stream",
     "text": [
      "[1.04534677]\n"
     ]
    }
   ],
   "source": [
    "# mutual information between bitcoin close price and oil price\n",
    "oil=array[:,10].reshape(-1, 1)\n",
    "m10=mutual_info_regression(oil,z, discrete_features='auto',n_neighbors=3, copy=True, random_state=None)\n",
    "#print(i6)\n",
    "print(m10)"
   ]
  },
  {
   "cell_type": "code",
   "execution_count": 13,
   "metadata": {},
   "outputs": [
    {
     "name": "stdout",
     "output_type": "stream",
     "text": [
      "[1.44557356]\n"
     ]
    }
   ],
   "source": [
    "# mutual information between bitcoin close price and usd/euro exchange rate.\n",
    "exg=array[:,11].reshape(-1, 1)\n",
    "#i7=mr.mutual_info_score(exg,z)\n",
    "#n7=normalized_mutual_info_score(exg,z)\n",
    "m11=mutual_info_regression(exg,z, discrete_features='auto',n_neighbors=3, copy=True, random_state=None)\n",
    "#print(i7)\n",
    "print(m11)"
   ]
  },
  {
   "cell_type": "code",
   "execution_count": 14,
   "metadata": {},
   "outputs": [
    {
     "name": "stdout",
     "output_type": "stream",
     "text": [
      "[0.74022878]\n"
     ]
    }
   ],
   "source": [
    "# mutual information between bitcoin close price and number of wiki views.\n",
    "wiki=array[:,12].reshape(-1, 1)\n",
    "#i8=mr.mutual_info_score(wiki,z)\n",
    "#n8=normalized_mutual_info_score(wiki,z)\n",
    "m12=mutual_info_regression(wiki,z, discrete_features='auto',n_neighbors=3, copy=True, random_state=None)\n",
    "#print(i8)\n",
    "print(m12)"
   ]
  },
  {
   "cell_type": "code",
   "execution_count": 15,
   "metadata": {},
   "outputs": [
    {
     "name": "stdout",
     "output_type": "stream",
     "text": [
      "[0.81007433]\n"
     ]
    }
   ],
   "source": [
    "# mutual information between bitcoin close price and number of tweets.\n",
    "twt=array[:,13].reshape(-1, 1)\n",
    "#i9=mr.mutual_info_score(twt,z)\n",
    "#n9=normalized_mutual_info_score(twt,z)\n",
    "m13=mutual_info_regression(twt,z, discrete_features='auto',n_neighbors=3, copy=True, random_state=None)\n",
    "#print(i9)\n",
    "print(m13)"
   ]
  },
  {
   "cell_type": "code",
   "execution_count": 17,
   "metadata": {},
   "outputs": [
    {
     "name": "stdout",
     "output_type": "stream",
     "text": [
      "[2.94838715]\n"
     ]
    }
   ],
   "source": [
    "# mutual information between bitcoin close price and 3 days moving average\n",
    "three_moving_average=array[:,14].reshape(-1, 1)\n",
    "m14=mutual_info_regression(three_moving_average,z, discrete_features='auto',n_neighbors=3, copy=True, random_state=None)\n",
    "#print(i9)\n",
    "print(m14)"
   ]
  },
  {
   "cell_type": "code",
   "execution_count": 18,
   "metadata": {},
   "outputs": [
    {
     "name": "stdout",
     "output_type": "stream",
     "text": [
      "[2.82059954]\n"
     ]
    }
   ],
   "source": [
    "# mutual information between bitcoin close price and 9 days moving average\n",
    "five_moving_average=array[:,15].reshape(-1, 1)\n",
    "m15=mutual_info_regression(five_moving_average,z, discrete_features='auto',n_neighbors=3, copy=True, random_state=None)\n",
    "print(m15)"
   ]
  },
  {
   "cell_type": "code",
   "execution_count": 19,
   "metadata": {},
   "outputs": [
    {
     "name": "stdout",
     "output_type": "stream",
     "text": [
      "[2.78644426]\n"
     ]
    }
   ],
   "source": [
    "# mutual information between bitcoin close price and 14 days moving average\n",
    "four_moving_average=array[:,16].reshape(-1, 1)\n",
    "m16=mutual_info_regression(four_moving_average,z, discrete_features='auto',n_neighbors=3, copy=True, random_state=None)\n",
    "print(m16)"
   ]
  },
  {
   "cell_type": "code",
   "execution_count": 20,
   "metadata": {},
   "outputs": [
    {
     "name": "stdout",
     "output_type": "stream",
     "text": [
      "[1.65745965]\n"
     ]
    }
   ],
   "source": [
    "# mutual information between bitcoin close price and wjs daily news sentiment\n",
    "four_moving_average=array[:,17].reshape(-1, 1)\n",
    "m17=mutual_info_regression(four_moving_average,z, discrete_features='auto',n_neighbors=3, copy=True, random_state=None)\n",
    "print(m17)"
   ]
  },
  {
   "cell_type": "code",
   "execution_count": 21,
   "metadata": {},
   "outputs": [
    {
     "name": "stdout",
     "output_type": "stream",
     "text": [
      "[1.74086873]\n"
     ]
    }
   ],
   "source": [
    "# mutual information between bitcoin close price and regulation news sentiment\n",
    "four_moving_average=array[:,18].reshape(-1, 1)\n",
    "m18=mutual_info_regression(four_moving_average,z, discrete_features='auto',n_neighbors=3, copy=True, random_state=None)\n",
    "print(m18)"
   ]
  },
  {
   "cell_type": "code",
   "execution_count": 24,
   "metadata": {},
   "outputs": [
    {
     "name": "stdout",
     "output_type": "stream",
     "text": [
      "[1.70904522]\n"
     ]
    }
   ],
   "source": [
    "# mutual information between bitcoin close price and privacy&security news sentiment\n",
    "four_moving_average=array[:,19].reshape(-1, 1)\n",
    "m19=mutual_info_regression(four_moving_average,z, discrete_features='auto',n_neighbors=3, copy=True, random_state=None)\n",
    "print(m19)"
   ]
  },
  {
   "cell_type": "code",
   "execution_count": 80,
   "metadata": {},
   "outputs": [
    {
     "name": "stdout",
     "output_type": "stream",
     "text": [
      "1.945910149055313\n",
      "1.0\n"
     ]
    }
   ],
   "source": [
    "s=[300,567,55,44,589,347,777]\n",
    "w=[123,321,456,678,876,987,879]\n",
    "i10=mr.mutual_info_score(s,w)\n",
    "n10=normalized_mutual_info_score(w,s)\n",
    "print(i10)\n",
    "print(n10)"
   ]
  },
  {
   "cell_type": "code",
   "execution_count": 5,
   "metadata": {},
   "outputs": [
    {
     "name": "stdout",
     "output_type": "stream",
     "text": [
      "[1.74791845]\n"
     ]
    }
   ],
   "source": [
    "df = read_csv('data output2.csv',header=0)\n",
    "array=df.values\n",
    "z=array[:,2]\n",
    "wsj_sentiment =array[:,18].reshape(-1, 1)\n",
    "m18=mutual_info_regression(wsj_sentiment,z, discrete_features='auto',n_neighbors=3, copy=True, random_state=None)\n",
    "print(m18)"
   ]
  },
  {
   "cell_type": "code",
   "execution_count": null,
   "metadata": {},
   "outputs": [],
   "source": []
  },
  {
   "cell_type": "code",
   "execution_count": null,
   "metadata": {},
   "outputs": [],
   "source": []
  }
 ],
 "metadata": {
  "kernelspec": {
   "display_name": "Python 3",
   "language": "python",
   "name": "python3"
  },
  "language_info": {
   "codemirror_mode": {
    "name": "ipython",
    "version": 3
   },
   "file_extension": ".py",
   "mimetype": "text/x-python",
   "name": "python",
   "nbconvert_exporter": "python",
   "pygments_lexer": "ipython3",
   "version": "3.8.3"
  }
 },
 "nbformat": 4,
 "nbformat_minor": 2
}
