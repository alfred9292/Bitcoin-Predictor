{
 "cells": [
  {
   "cell_type": "code",
   "execution_count": 2,
   "metadata": {},
   "outputs": [],
   "source": [
    "import statsmodels.api as sm\n",
    "import pandas \n",
    "from pandas import read_csv\n",
    "from pandas import DataFrame \n",
    "from sklearn import linear_model\n",
    "from sklearn import preprocessing "
   ]
  },
  {
   "cell_type": "code",
   "execution_count": 2,
   "metadata": {},
   "outputs": [
    {
     "name": "stdout",
     "output_type": "stream",
     "text": [
      "Intercept: \n",
      " 3515.78504797048\n",
      "Coefficients: \n",
      " [-177.26306978   94.3618368   111.74022644  323.48763852   29.76638538\n",
      " -106.24006863  679.79299188  -33.72194756   56.7513236    76.43104906\n",
      "  399.17100564   65.24188446 2639.31816322]\n"
     ]
    },
    {
     "name": "stderr",
     "output_type": "stream",
     "text": [
      "/anaconda3/lib/python3.7/site-packages/sklearn/utils/validation.py:595: DataConversionWarning: Data with input dtype object was converted to float64 by the scale function.\n",
      "  warnings.warn(msg, DataConversionWarning)\n",
      "/anaconda3/lib/python3.7/site-packages/sklearn/preprocessing/data.py:180: UserWarning: Numerical issues were encountered when centering the data and might not be solved. Dataset may contain too large values. You may need to prescale your features.\n",
      "  warnings.warn(\"Numerical issues were encountered \"\n"
     ]
    }
   ],
   "source": [
    "df = read_csv('data output.csv',header=0)\n",
    "array=df.values\n",
    "x=array[:,2:15]\n",
    "y=array[:,1]\n",
    "x=preprocessing.scale(x)\n",
    "reg= linear_model.LinearRegression()\n",
    "reg.fit(x,y)\n",
    "print('Intercept: \\n', reg.intercept_)\n",
    "print('Coefficients: \\n', reg.coef_)"
   ]
  },
  {
   "cell_type": "code",
   "execution_count": 3,
   "metadata": {},
   "outputs": [
    {
     "name": "stdout",
     "output_type": "stream",
     "text": [
      "                            OLS Regression Results                            \n",
      "==============================================================================\n",
      "Dep. Variable:                      y   R-squared:                       0.529\n",
      "Model:                            OLS   Adj. R-squared:                  0.524\n",
      "Method:                 Least Squares   F-statistic:                     115.7\n",
      "Date:                Sun, 14 Apr 2019   Prob (F-statistic):          3.01e-208\n",
      "Time:                        12:09:49   Log-Likelihood:                -12995.\n",
      "No. Observations:                1355   AIC:                         2.602e+04\n",
      "Df Residuals:                    1342   BIC:                         2.608e+04\n",
      "Df Model:                          13                                         \n",
      "Covariance Type:            nonrobust                                         \n",
      "==============================================================================\n",
      "                 coef    std err          t      P>|t|      [0.025      0.975]\n",
      "------------------------------------------------------------------------------\n",
      "const               0          0        nan        nan           0           0\n",
      "x1          -177.2631    261.815     -0.677      0.498    -690.874     336.348\n",
      "x2            94.3618    304.381      0.310      0.757    -502.752     691.475\n",
      "x3           111.7402    244.089      0.458      0.647    -367.098     590.579\n",
      "x4           323.4876    267.307      1.210      0.226    -200.897     847.873\n",
      "x5            29.7664    135.712      0.219      0.826    -236.465     295.998\n",
      "x6          -106.2401    226.858     -0.468      0.640    -551.275     338.795\n",
      "x7           679.7930    457.637      1.485      0.138    -217.969    1577.555\n",
      "x8           -33.7219    151.152     -0.223      0.823    -330.241     262.797\n",
      "x9            56.7513    171.993      0.330      0.741    -280.654     394.156\n",
      "x10           76.4310    252.013      0.303      0.762    -417.951     570.813\n",
      "x11          399.1710    195.387      2.043      0.041      15.873     782.469\n",
      "x12           65.2419    242.989      0.268      0.788    -411.438     541.922\n",
      "x13         2639.3182    590.860      4.467      0.000    1480.208    3798.428\n",
      "==============================================================================\n",
      "Omnibus:                      368.716   Durbin-Watson:                   0.004\n",
      "Prob(Omnibus):                  0.000   Jarque-Bera (JB):            12124.716\n",
      "Skew:                          -0.581   Prob(JB):                         0.00\n",
      "Kurtosis:                      17.608   Cond. No.                          inf\n",
      "==============================================================================\n",
      "\n",
      "Warnings:\n",
      "[1] Standard Errors assume that the covariance matrix of the errors is correctly specified.\n",
      "[2] The smallest eigenvalue is      0. This might indicate that there are\n",
      "strong multicollinearity problems or that the design matrix is singular.\n"
     ]
    },
    {
     "name": "stderr",
     "output_type": "stream",
     "text": [
      "/anaconda3/lib/python3.7/site-packages/statsmodels/regression/linear_model.py:1633: RuntimeWarning: divide by zero encountered in double_scalars\n",
      "  return np.sqrt(eigvals[0]/eigvals[-1])\n",
      "/anaconda3/lib/python3.7/site-packages/statsmodels/base/model.py:1100: RuntimeWarning: invalid value encountered in true_divide\n",
      "  return self.params / self.bse\n",
      "/anaconda3/lib/python3.7/site-packages/scipy/stats/_distn_infrastructure.py:877: RuntimeWarning: invalid value encountered in greater\n",
      "  return (self.a < x) & (x < self.b)\n",
      "/anaconda3/lib/python3.7/site-packages/scipy/stats/_distn_infrastructure.py:877: RuntimeWarning: invalid value encountered in less\n",
      "  return (self.a < x) & (x < self.b)\n",
      "/anaconda3/lib/python3.7/site-packages/scipy/stats/_distn_infrastructure.py:1831: RuntimeWarning: invalid value encountered in less_equal\n",
      "  cond2 = cond0 & (x <= self.a)\n"
     ]
    }
   ],
   "source": [
    "x=sm.add_constant(x)\n",
    "x=preprocessing.scale(x)\n",
    "x=x.astype(float)\n",
    "y=y.astype(float)\n",
    "model = sm.OLS(y,x).fit()\n",
    "summary=model.summary()\n",
    "print(summary)"
   ]
  },
  {
   "cell_type": "code",
   "execution_count": 7,
   "metadata": {},
   "outputs": [
    {
     "name": "stdout",
     "output_type": "stream",
     "text": [
      "[[103669.7 267891 143977 ... -0.54 -0.97 -0.97]\n",
      " [83719.46 276497 141999 ... -0.54 -0.97 -0.97]\n",
      " [74467.14 267584 129558 ... -0.54 -0.97 -0.97]\n",
      " ...\n",
      " [2674052.82 654299 299774 ... -0.86 1.0 0.95]\n",
      " [2382787.35 643452 296817 ... -0.78 1.0 0.95]\n",
      " [2456163.6 545186 262104 ... -0.78 1.0 0.95]]\n",
      "Intercept: \n",
      " 3520.7670479704793\n",
      "Coefficients: \n",
      " [-1.27335326e+02  8.44625000e+01 -1.41645830e+00  3.12432180e+02\n",
      " -5.35219625e+00 -1.67391656e+01  4.81202560e+02  1.52716847e+01\n",
      "  1.41919299e+01  3.50000795e+01  3.27035158e+02  7.07849457e+01\n",
      "  2.88212714e+03  2.52667341e+02 -2.86158969e+02 -1.28187425e+01\n",
      "  2.08145270e+01 -4.03331594e+01]\n"
     ]
    },
    {
     "name": "stderr",
     "output_type": "stream",
     "text": [
      "/anaconda3/lib/python3.7/site-packages/sklearn/utils/validation.py:595: DataConversionWarning: Data with input dtype object was converted to float64 by the scale function.\n",
      "  warnings.warn(msg, DataConversionWarning)\n",
      "/anaconda3/lib/python3.7/site-packages/sklearn/preprocessing/data.py:180: UserWarning: Numerical issues were encountered when centering the data and might not be solved. Dataset may contain too large values. You may need to prescale your features.\n",
      "  warnings.warn(\"Numerical issues were encountered \"\n"
     ]
    }
   ],
   "source": [
    "df = read_csv('Final.csv',header=0)\n",
    "array=df.values\n",
    "x=array[:,2:21]\n",
    "y=array[:,1]\n",
    "print(x)\n",
    "x=preprocessing.scale(x)\n",
    "reg= linear_model.LinearRegression()\n",
    "reg.fit(x,y)\n",
    "print('Intercept: \\n', reg.intercept_)\n",
    "print('Coefficients: \\n', reg.coef_)"
   ]
  },
  {
   "cell_type": "code",
   "execution_count": 8,
   "metadata": {
    "scrolled": true
   },
   "outputs": [
    {
     "name": "stdout",
     "output_type": "stream",
     "text": [
      "                            OLS Regression Results                            \n",
      "==============================================================================\n",
      "Dep. Variable:                      y   R-squared:                       0.530\n",
      "Model:                            OLS   Adj. R-squared:                  0.524\n",
      "Method:                 Least Squares   F-statistic:                     83.86\n",
      "Date:                Mon, 13 May 2019   Prob (F-statistic):          2.76e-204\n",
      "Time:                        11:09:56   Log-Likelihood:                -12996.\n",
      "No. Observations:                1355   AIC:                         2.603e+04\n",
      "Df Residuals:                    1337   BIC:                         2.612e+04\n",
      "Df Model:                          18                                         \n",
      "Covariance Type:            nonrobust                                         \n",
      "==============================================================================\n",
      "                 coef    std err          t      P>|t|      [0.025      0.975]\n",
      "------------------------------------------------------------------------------\n",
      "const               0          0        nan        nan           0           0\n",
      "x1          -127.3353    193.432     -0.658      0.510    -506.799     252.128\n",
      "x2            84.4625    309.734      0.273      0.785    -523.155     692.080\n",
      "x3            -1.4165    255.324     -0.006      0.996    -502.295     499.463\n",
      "x4           312.4322    333.096      0.938      0.348    -341.015     965.879\n",
      "x5            -5.3522    137.662     -0.039      0.969    -275.410     264.705\n",
      "x6           -16.7392    230.238     -0.073      0.942    -468.406     434.927\n",
      "x7           481.2026    487.237      0.988      0.324    -474.629    1437.034\n",
      "x8            15.2717    161.062      0.095      0.924    -300.690     331.234\n",
      "x9            14.1919    180.984      0.078      0.938    -340.852     369.236\n",
      "x10           35.0001    252.966      0.138      0.890    -461.253     531.253\n",
      "x11          327.0352    200.041      1.635      0.102     -65.393     719.464\n",
      "x12           70.7849    253.267      0.279      0.780    -426.059     567.629\n",
      "x13         2882.1271   1401.324      2.057      0.040     133.094    5631.160\n",
      "x14          252.6673   2975.179      0.085      0.932   -5583.860    6089.195\n",
      "x15         -286.1590   2069.219     -0.138      0.890   -4345.429    3773.111\n",
      "x16          -12.8187    104.354     -0.123      0.902    -217.534     191.896\n",
      "x17           20.8145    120.461      0.173      0.863    -215.498     257.127\n",
      "x18          -40.3332    116.174     -0.347      0.729    -268.236     187.570\n",
      "==============================================================================\n",
      "Omnibus:                      374.750   Durbin-Watson:                   0.008\n",
      "Prob(Omnibus):                  0.000   Jarque-Bera (JB):            31411.335\n",
      "Skew:                          -0.138   Prob(JB):                         0.00\n",
      "Kurtosis:                      26.586   Cond. No.                          inf\n",
      "==============================================================================\n",
      "\n",
      "Warnings:\n",
      "[1] Standard Errors assume that the covariance matrix of the errors is correctly specified.\n",
      "[2] The smallest eigenvalue is      0. This might indicate that there are\n",
      "strong multicollinearity problems or that the design matrix is singular.\n"
     ]
    },
    {
     "name": "stderr",
     "output_type": "stream",
     "text": [
      "/anaconda3/lib/python3.7/site-packages/statsmodels/regression/linear_model.py:1633: RuntimeWarning: divide by zero encountered in double_scalars\n",
      "  return np.sqrt(eigvals[0]/eigvals[-1])\n",
      "/anaconda3/lib/python3.7/site-packages/statsmodels/base/model.py:1100: RuntimeWarning: invalid value encountered in true_divide\n",
      "  return self.params / self.bse\n",
      "/anaconda3/lib/python3.7/site-packages/scipy/stats/_distn_infrastructure.py:877: RuntimeWarning: invalid value encountered in greater\n",
      "  return (self.a < x) & (x < self.b)\n",
      "/anaconda3/lib/python3.7/site-packages/scipy/stats/_distn_infrastructure.py:877: RuntimeWarning: invalid value encountered in less\n",
      "  return (self.a < x) & (x < self.b)\n",
      "/anaconda3/lib/python3.7/site-packages/scipy/stats/_distn_infrastructure.py:1831: RuntimeWarning: invalid value encountered in less_equal\n",
      "  cond2 = cond0 & (x <= self.a)\n"
     ]
    }
   ],
   "source": [
    "'''\n",
    "result reveals x1,x4,x7,x11,x13,x14 and x15 are closely linked to bitcoin price\n",
    "x1: volume x4: mining difficulty, x7:litecoin price \n",
    "x13: 3 days moving average\n",
    "x14: 9 days moving average\n",
    "x15: 15 days moving average\n",
    "\n",
    "'''\n",
    "x=sm.add_constant(x)\n",
    "x=preprocessing.scale(x)\n",
    "x=x.astype(float)\n",
    "y=y.astype(float)\n",
    "model = sm.OLS(y,x).fit()\n",
    "summary=model.summary()\n",
    "print(summary)"
   ]
  },
  {
   "cell_type": "code",
   "execution_count": null,
   "metadata": {},
   "outputs": [],
   "source": []
  }
 ],
 "metadata": {
  "kernelspec": {
   "display_name": "Python 3",
   "language": "python",
   "name": "python3"
  },
  "language_info": {
   "codemirror_mode": {
    "name": "ipython",
    "version": 3
   },
   "file_extension": ".py",
   "mimetype": "text/x-python",
   "name": "python",
   "nbconvert_exporter": "python",
   "pygments_lexer": "ipython3",
   "version": "3.8.3"
  }
 },
 "nbformat": 4,
 "nbformat_minor": 2
}
