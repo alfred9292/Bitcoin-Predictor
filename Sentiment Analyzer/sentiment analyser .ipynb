{
 "cells": [
  {
   "cell_type": "code",
   "execution_count": 2,
   "metadata": {},
   "outputs": [],
   "source": [
    "from pandas import read_csv\n",
    "from textblob import TextBlob"
   ]
  },
  {
   "cell_type": "code",
   "execution_count": 5,
   "metadata": {},
   "outputs": [
    {
     "name": "stdout",
     "output_type": "stream",
     "text": [
      "Sentiment(polarity=0.05312500000000001, subjectivity=0.35624999999999996)\n",
      "Sentiment(polarity=0.03775974025974026, subjectivity=0.37463564213564216)\n",
      "Sentiment(polarity=-0.007618274582560294, subjectivity=0.4271992888064316)\n",
      "Sentiment(polarity=0.06163836163836163, subjectivity=0.2846278721278721)\n",
      "Sentiment(polarity=0.016142653642653635, subjectivity=0.36319190069190066)\n",
      "Sentiment(polarity=0.07154882154882154, subjectivity=0.26901304713804713)\n",
      "Sentiment(polarity=0.061472778633795584, subjectivity=0.42654633502091155)\n",
      "Sentiment(polarity=0.15242063492063493, subjectivity=0.5659126984126985)\n",
      "Sentiment(polarity=0.020006516780710325, subjectivity=0.2300097751710655)\n",
      "Sentiment(polarity=0.16791769738198306, subjectivity=0.5141950972308115)\n",
      "Sentiment(polarity=0.10340971289247151, subjectivity=0.38533487585211723)\n",
      "Sentiment(polarity=0.05639993686868688, subjectivity=0.36787123466810967)\n",
      "Sentiment(polarity=0.10942126896672352, subjectivity=0.3448618216800035)\n",
      "Sentiment(polarity=0.025303454715219418, subjectivity=0.370985060690943)\n",
      "Sentiment(polarity=0.15231183003504428, subjectivity=0.46791280148422987)\n",
      "Sentiment(polarity=0.13446211598385513, subjectivity=0.471557709601188)\n",
      "Sentiment(polarity=0.07152777777777779, subjectivity=0.33194444444444443)\n",
      "Sentiment(polarity=0.09405172413793103, subjectivity=0.3140318302387268)\n",
      "Sentiment(polarity=0.02346491228070176, subjectivity=0.4425438596491228)\n",
      "Sentiment(polarity=0.09829083518107908, subjectivity=0.42874916411501784)\n",
      "Sentiment(polarity=-0.0015238592824799763, subjectivity=0.48889510872269487)\n",
      "Sentiment(polarity=0.11235031917235311, subjectivity=0.3862201922371413)\n",
      "Sentiment(polarity=0.08119834710743802, subjectivity=0.26687327823691454)\n",
      "Sentiment(polarity=0.05427890011223346, subjectivity=0.4483877233877233)\n",
      "Sentiment(polarity=0.09893503487253487, subjectivity=0.3107082732082732)\n",
      "Sentiment(polarity=0.09469696969696968, subjectivity=0.24507575757575759)\n",
      "Sentiment(polarity=0.03432088744588744, subjectivity=0.32921176046176054)\n",
      "Sentiment(polarity=0.06420051353874882, subjectivity=0.37864989585577824)\n",
      "Sentiment(polarity=0.03906926406926407, subjectivity=0.3201515151515152)\n",
      "Sentiment(polarity=0.12738095238095237, subjectivity=0.47380952380952385)\n",
      "Sentiment(polarity=0.07149691358024692, subjectivity=0.35213403880070543)\n",
      "Sentiment(polarity=0.1109172077922078, subjectivity=0.4532061688311688)\n",
      "Sentiment(polarity=-0.029924242424242412, subjectivity=0.32819264069264065)\n",
      "Sentiment(polarity=0.06375968992248063, subjectivity=0.25074750830564785)\n",
      "Sentiment(polarity=0.038671239579134334, subjectivity=0.4435490722727565)\n",
      "Sentiment(polarity=0.11008177008177009, subjectivity=0.4871596921596921)\n",
      "Sentiment(polarity=0.029246031746031742, subjectivity=0.32646825396825396)\n",
      "Sentiment(polarity=0.07917995746943114, subjectivity=0.356087187666135)\n",
      "Sentiment(polarity=0.12278645833333333, subjectivity=0.4978794642857143)\n",
      "Sentiment(polarity=0.09440507426014672, subjectivity=0.45694142545591854)\n",
      "Sentiment(polarity=0.07303030303030306, subjectivity=0.533989898989899)\n",
      "Sentiment(polarity=0.014417989417989422, subjectivity=0.4847883597883597)\n",
      "Sentiment(polarity=0.05557771958125735, subjectivity=0.39237914862914863)\n",
      "Sentiment(polarity=0.06403038319704986, subjectivity=0.36051867885201216)\n",
      "Sentiment(polarity=-0.025093035619351417, subjectivity=0.36776980329611914)\n",
      "Sentiment(polarity=0.13071989738656406, subjectivity=0.3596600929934264)\n",
      "Sentiment(polarity=0.10134853156435891, subjectivity=0.46675386963156756)\n",
      "Sentiment(polarity=0.14628633271490415, subjectivity=0.48390228818800246)\n",
      "Sentiment(polarity=-0.027857142857142858, subjectivity=0.38690476190476186)\n",
      "Sentiment(polarity=0.038664596273291926, subjectivity=0.4316770186335404)\n",
      "Sentiment(polarity=0.14398395721925134, subjectivity=0.3696524064171123)\n",
      "Sentiment(polarity=0.07531347962382445, subjectivity=0.31535117181668904)\n",
      "Sentiment(polarity=0.09200084175084178, subjectivity=0.4827747715247716)\n",
      "Sentiment(polarity=0.023981191222570537, subjectivity=0.4325235109717868)\n",
      "Sentiment(polarity=0.1283254624163715, subjectivity=0.4136462022825658)\n",
      "Sentiment(polarity=-0.05542892481667995, subjectivity=0.41797420266808005)\n",
      "Sentiment(polarity=0.12491725288600286, subjectivity=0.427463924963925)\n",
      "Sentiment(polarity=0.10136331261331263, subjectivity=0.4067649017649017)\n",
      "Sentiment(polarity=0.13141233766233767, subjectivity=0.32616341991341985)\n",
      "Sentiment(polarity=0.09679989550679205, subjectivity=0.3306165099268548)\n",
      "Sentiment(polarity=0.12652698863636364, subjectivity=0.3428503787878788)\n",
      "Sentiment(polarity=0.06173324150596879, subjectivity=0.521198347107438)\n",
      "Sentiment(polarity=0.08855344186330101, subjectivity=0.48537375769770136)\n",
      "Sentiment(polarity=-0.007092198581560284, subjectivity=0.3573961499493414)\n",
      "Sentiment(polarity=-0.07592592592592594, subjectivity=0.3172839506172839)\n",
      "Sentiment(polarity=0.06384259259259259, subjectivity=0.43689153439153444)\n",
      "Sentiment(polarity=-0.018004115226337446, subjectivity=0.37479423868312756)\n",
      "Sentiment(polarity=0.09568366031131986, subjectivity=0.41121166067974574)\n",
      "Sentiment(polarity=0.10974927849927851, subjectivity=0.5383384712930168)\n",
      "Sentiment(polarity=0.03603421432368801, subjectivity=0.2827115136325663)\n",
      "Sentiment(polarity=-0.03474947671376243, subjectivity=0.45769884877027744)\n",
      "Sentiment(polarity=0.11409893869571291, subjectivity=0.4042801284736767)\n",
      "Sentiment(polarity=0.11436051693404635, subjectivity=0.3290775401069519)\n",
      "Sentiment(polarity=0.026008064516129026, subjectivity=0.38508064516129037)\n",
      "Sentiment(polarity=0.04505208333333334, subjectivity=0.4020833333333333)\n",
      "Sentiment(polarity=0.06319444444444444, subjectivity=0.49513888888888885)\n",
      "Sentiment(polarity=0.08293914418914418, subjectivity=0.47245012923584345)\n",
      "Sentiment(polarity=0.0966867201426025, subjectivity=0.41705704099821733)\n",
      "Sentiment(polarity=0.15916193181818183, subjectivity=0.3321022727272727)\n",
      "Sentiment(polarity=0.05227272727272727, subjectivity=0.38254358254358256)\n",
      "Sentiment(polarity=0.10273199023199023, subjectivity=0.41732295482295473)\n",
      "Sentiment(polarity=0.10659090909090908, subjectivity=0.29224747474747476)\n",
      "Sentiment(polarity=0.08887935963407664, subjectivity=0.4430783577009993)\n",
      "Sentiment(polarity=0.11174180225904365, subjectivity=0.4384485246554213)\n",
      "Sentiment(polarity=0.08290381493506493, subjectivity=0.34687049062049063)\n",
      "Sentiment(polarity=0.11041976041976044, subjectivity=0.5271124596124596)\n",
      "Sentiment(polarity=0.01190476190476191, subjectivity=0.26269841269841265)\n",
      "Sentiment(polarity=0.10968379446640313, subjectivity=0.43155467720685114)\n",
      "Sentiment(polarity=0.08398965848965848, subjectivity=0.50200481000481)\n",
      "Sentiment(polarity=0.025837742504409164, subjectivity=0.25299823633156965)\n",
      "Sentiment(polarity=0.0720246052966641, subjectivity=0.45763862363127084)\n",
      "Sentiment(polarity=0.15163540163540162, subjectivity=0.4468534551867886)\n",
      "Sentiment(polarity=0.0735181720351212, subjectivity=0.2950045246655416)\n",
      "Sentiment(polarity=0.02123655913978495, subjectivity=0.5026881720430108)\n",
      "Sentiment(polarity=0.09324600363561407, subjectivity=0.5479245141582805)\n",
      "Sentiment(polarity=0.08498843110912076, subjectivity=0.4067006269592475)\n",
      "Sentiment(polarity=0.14735449735449735, subjectivity=0.3232804232804233)\n",
      "Sentiment(polarity=0.08206188157081015, subjectivity=0.36245400432900426)\n",
      "Sentiment(polarity=0.07697524283345178, subjectivity=0.41927564558161584)\n",
      "Sentiment(polarity=0.10685249709639955, subjectivity=0.3959833526906697)\n",
      "Sentiment(polarity=0.08400170536534173, subjectivity=0.418884953430408)\n",
      "Sentiment(polarity=0.06752244668911334, subjectivity=0.3551416947250281)\n",
      "Sentiment(polarity=0.07817717996289425, subjectivity=0.26671304885590597)\n",
      "Sentiment(polarity=0.0799380711880712, subjectivity=0.4002138047138047)\n",
      "Sentiment(polarity=0.12458228338825353, subjectivity=0.4217635349724902)\n",
      "Sentiment(polarity=0.04788324420677361, subjectivity=0.4342023172905525)\n",
      "Sentiment(polarity=0.04192760942760943, subjectivity=0.3270117845117845)\n",
      "Sentiment(polarity=0.08366858237547892, subjectivity=0.36848659003831413)\n",
      "Sentiment(polarity=0.05591358813008297, subjectivity=0.38327385672746495)\n",
      "Sentiment(polarity=0.12064436885865455, subjectivity=0.41609977324263026)\n",
      "Sentiment(polarity=0.04060530113161693, subjectivity=0.40735740867319814)\n",
      "Sentiment(polarity=0.05456729282622141, subjectivity=0.3988370739710027)\n",
      "Sentiment(polarity=0.075, subjectivity=0.3354166666666667)\n",
      "Sentiment(polarity=0.07021497021497022, subjectivity=0.3431577681577681)\n",
      "Sentiment(polarity=0.06794815033451396, subjectivity=0.3196936901482355)\n",
      "Sentiment(polarity=0.08820765797509984, subjectivity=0.4366950233229302)\n",
      "Sentiment(polarity=0.11359649122807017, subjectivity=0.461842105263158)\n",
      "Sentiment(polarity=0.10641233766233764, subjectivity=0.4425054112554112)\n",
      "Sentiment(polarity=0.02993326118326118, subjectivity=0.41813543599257885)\n",
      "Sentiment(polarity=0.026805555555555548, subjectivity=0.3022222222222222)\n",
      "Sentiment(polarity=0.10807933563035603, subjectivity=0.4340577789557381)\n",
      "Sentiment(polarity=0.024260269871971996, subjectivity=0.37546398636824163)\n",
      "Sentiment(polarity=0.06806250000000003, subjectivity=0.30412500000000003)\n",
      "Sentiment(polarity=0.11014172845856013, subjectivity=0.41594884763201584)\n",
      "Sentiment(polarity=0.14757474494316603, subjectivity=0.3939115465431255)\n",
      "Sentiment(polarity=0.04469696969696969, subjectivity=0.3011363636363637)\n",
      "Sentiment(polarity=0.07457142857142858, subjectivity=0.4701904761904762)\n",
      "Sentiment(polarity=0.11340277777777776, subjectivity=0.4751140873015874)\n",
      "Sentiment(polarity=-0.04506448412698414, subjectivity=0.42936507936507945)\n",
      "Sentiment(polarity=0.05236587816944959, subjectivity=0.4596663059163057)\n",
      "Sentiment(polarity=0.040656565656565655, subjectivity=0.3392676767676767)\n",
      "Sentiment(polarity=0.04047746371275783, subjectivity=0.3728011204481792)\n",
      "Sentiment(polarity=0.16659564393939394, subjectivity=0.3997632575757576)\n",
      "Sentiment(polarity=0.09608886483886486, subjectivity=0.4069248246879826)\n",
      "Sentiment(polarity=0.0742260177765497, subjectivity=0.48190165331122775)\n",
      "Sentiment(polarity=0.052432724751497975, subjectivity=0.3059590461170388)\n",
      "Sentiment(polarity=-0.03325617283950617, subjectivity=0.4124228395061728)\n",
      "Sentiment(polarity=0.15622995831329167, subjectivity=0.3979968334135001)\n",
      "Sentiment(polarity=-0.03324810606060606, subjectivity=0.4618350168350167)\n",
      "Sentiment(polarity=0.12234848484848485, subjectivity=0.3789393939393939)\n",
      "Sentiment(polarity=0.04180119880119879, subjectivity=0.4680406260406262)\n",
      "Sentiment(polarity=0.13593073593073593, subjectivity=0.38633658008658006)\n",
      "Sentiment(polarity=0.05538842975206609, subjectivity=0.5280826446280995)\n",
      "Sentiment(polarity=0.07935545935545936, subjectivity=0.34186387686387687)\n",
      "Sentiment(polarity=0.011574074074074075, subjectivity=0.4578703703703703)\n",
      "Sentiment(polarity=0.17945050505050503, subjectivity=0.4587313131313131)\n",
      "Sentiment(polarity=0.07693556443556442, subjectivity=0.3585164835164836)\n",
      "Sentiment(polarity=0.09614283511230076, subjectivity=0.3904083363625349)\n",
      "Sentiment(polarity=0.14525697171046006, subjectivity=0.5129391925903555)\n",
      "Sentiment(polarity=0.19145482177397075, subjectivity=0.43407939578152344)\n",
      "Sentiment(polarity=-0.008534805967841699, subjectivity=0.4540490387588604)\n",
      "Sentiment(polarity=0.04065342429106475, subjectivity=0.2687734082397003)\n",
      "Sentiment(polarity=0.017210866784730425, subjectivity=0.35840220385674926)\n",
      "Sentiment(polarity=0.10000098386462024, subjectivity=0.41983011937557385)\n",
      "Sentiment(polarity=0.053360453573219536, subjectivity=0.3710483763675254)\n",
      "Sentiment(polarity=0.08656900841940211, subjectivity=0.4419223165286158)\n",
      "Sentiment(polarity=0.08618326118326117, subjectivity=0.4756751185322612)\n",
      "Sentiment(polarity=0.1342241844344648, subjectivity=0.4309147887418917)\n",
      "Sentiment(polarity=0.10169992609016999, subjectivity=0.4442165558019217)\n",
      "Sentiment(polarity=0.045820105820105816, subjectivity=0.5146560846560848)\n",
      "Sentiment(polarity=0.10694444444444447, subjectivity=0.5320261437908498)\n",
      "Sentiment(polarity=0.05434681805649548, subjectivity=0.3803980875755068)\n",
      "Sentiment(polarity=0.06383016208597604, subjectivity=0.3789816772374912)\n",
      "Sentiment(polarity=0.09276315789473685, subjectivity=0.3844298245614035)\n",
      "Sentiment(polarity=0.14447924624395214, subjectivity=0.4356964604023427)\n",
      "Sentiment(polarity=0.04253745158350423, subjectivity=0.3165515624726152)\n",
      "Sentiment(polarity=0.08854352346999406, subjectivity=0.35134061200237676)\n"
     ]
    },
    {
     "name": "stdout",
     "output_type": "stream",
     "text": [
      "Sentiment(polarity=0.05398336038961038, subjectivity=0.4114623917748916)\n",
      "Sentiment(polarity=0.09121307613954674, subjectivity=0.3504488158899923)\n",
      "Sentiment(polarity=0.10182201764480245, subjectivity=0.43993894642628817)\n",
      "Sentiment(polarity=0.058290960451977396, subjectivity=0.32031073446327685)\n",
      "Sentiment(polarity=-0.008960348162475826, subjectivity=0.3842456479690523)\n",
      "Sentiment(polarity=0.08743409368409369, subjectivity=0.3792776667776667)\n",
      "Sentiment(polarity=0.09443190989801163, subjectivity=0.3905767725682979)\n",
      "Sentiment(polarity=0.11472561998724788, subjectivity=0.42988535689117074)\n",
      "Sentiment(polarity=0.056868219229330344, subjectivity=0.31176954732510287)\n",
      "Sentiment(polarity=0.08120460048426151, subjectivity=0.3551049233252623)\n",
      "Sentiment(polarity=0.006256807708420613, subjectivity=0.4333640552995393)\n",
      "Sentiment(polarity=0.04654088050314467, subjectivity=0.22248427672955978)\n",
      "Sentiment(polarity=0.11753940503940502, subjectivity=0.4115225052725053)\n",
      "Sentiment(polarity=0.058801557239057244, subjectivity=0.3306324462574463)\n",
      "Sentiment(polarity=0.07921122994652408, subjectivity=0.28928253119429587)\n",
      "Sentiment(polarity=0.10721830253080253, subjectivity=0.3977575309306079)\n",
      "Sentiment(polarity=0.10418636168636168, subjectivity=0.32461555711555706)\n",
      "Sentiment(polarity=0.041255144032921826, subjectivity=0.3007201646090535)\n",
      "Sentiment(polarity=0.09195804195804194, subjectivity=0.3424242424242424)\n",
      "Sentiment(polarity=0.05221717171717172, subjectivity=0.30434559884559886)\n",
      "Sentiment(polarity=0.0867004017004017, subjectivity=0.3804869154869153)\n",
      "Sentiment(polarity=0.05196461366915912, subjectivity=0.387421126852945)\n",
      "Sentiment(polarity=0.08139077462941098, subjectivity=0.4104713531418076)\n",
      "Sentiment(polarity=0.09819894036311948, subjectivity=0.3769092847451057)\n",
      "Sentiment(polarity=0.14009248327430146, subjectivity=0.4076819645001465)\n",
      "Sentiment(polarity=0.05135714285714285, subjectivity=0.4340238095238094)\n",
      "Sentiment(polarity=0.04116789008093356, subjectivity=0.3115361691448648)\n",
      "Sentiment(polarity=0.08323274764451234, subjectivity=0.4405704099821747)\n",
      "Sentiment(polarity=0.06722955883068243, subjectivity=0.41811137052710073)\n",
      "Sentiment(polarity=0.04584513970877607, subjectivity=0.3799203069657614)\n",
      "Sentiment(polarity=0.04440133037694013, subjectivity=0.3624353288987434)\n",
      "Sentiment(polarity=0.21644047619047618, subjectivity=0.4647658730158731)\n",
      "Sentiment(polarity=0.09371504157218444, subjectivity=0.43398715041572183)\n",
      "Sentiment(polarity=0.052330269912237125, subjectivity=0.30595214439476737)\n",
      "Sentiment(polarity=0.003404928404928409, subjectivity=0.4327630702630702)\n",
      "Sentiment(polarity=0.0917150831624516, subjectivity=0.4170316890711628)\n",
      "Sentiment(polarity=0.11877584026460429, subjectivity=0.37425012565462007)\n",
      "Sentiment(polarity=0.030329991645781124, subjectivity=0.3161361737677527)\n",
      "Sentiment(polarity=0.0936746758839782, subjectivity=0.3977101021287068)\n",
      "Sentiment(polarity=0.06913636363636362, subjectivity=0.35328787878787876)\n",
      "Sentiment(polarity=0.03199573863636364, subjectivity=0.24701704545454545)\n",
      "Sentiment(polarity=0.01947004608294931, subjectivity=0.35787250384024577)\n",
      "Sentiment(polarity=0.02279102602378465, subjectivity=0.377072759615863)\n",
      "Sentiment(polarity=0.1630117501546073, subjectivity=0.4392455163883735)\n",
      "Sentiment(polarity=0.042473898650369234, subjectivity=0.36692513368983953)\n"
     ]
    }
   ],
   "source": [
    "y=[]\n",
    "data = read_csv('Regulation.csv',header=0)\n",
    "for i in range(0,data.shape[0]):\n",
    "    x = data.iloc[i].values[2]\n",
    "    y= TextBlob(x)\n",
    "    print(y.sentiment)\n"
   ]
  },
  {
   "cell_type": "code",
   "execution_count": 11,
   "metadata": {},
   "outputs": [
    {
     "data": {
      "text/plain": [
       "TextBlob(\"gorden chen is stupid.\")"
      ]
     },
     "execution_count": 11,
     "metadata": {},
     "output_type": "execute_result"
    }
   ],
   "source": [
    "text='.'\n",
    "blob = TextBlob(text)\n",
    "blob"
   ]
  },
  {
   "cell_type": "code",
   "execution_count": 12,
   "metadata": {},
   "outputs": [
    {
     "data": {
      "text/plain": [
       "[Sentence(\"gorden chen is stupid.\")]"
      ]
     },
     "execution_count": 12,
     "metadata": {},
     "output_type": "execute_result"
    }
   ],
   "source": [
    "blob.sentences"
   ]
  },
  {
   "cell_type": "code",
   "execution_count": 15,
   "metadata": {},
   "outputs": [
    {
     "data": {
      "text/plain": [
       "Sentiment(polarity=-0.7999999999999999, subjectivity=1.0)"
      ]
     },
     "execution_count": 15,
     "metadata": {},
     "output_type": "execute_result"
    }
   ],
   "source": [
    "blob.sentiment"
   ]
  },
  {
   "cell_type": "code",
   "execution_count": null,
   "metadata": {},
   "outputs": [],
   "source": []
  }
 ],
 "metadata": {
  "kernelspec": {
   "display_name": "Python 3",
   "language": "python",
   "name": "python3"
  },
  "language_info": {
   "codemirror_mode": {
    "name": "ipython",
    "version": 3
   },
   "file_extension": ".py",
   "mimetype": "text/x-python",
   "name": "python",
   "nbconvert_exporter": "python",
   "pygments_lexer": "ipython3",
   "version": "3.7.3"
  }
 },
 "nbformat": 4,
 "nbformat_minor": 2
}
