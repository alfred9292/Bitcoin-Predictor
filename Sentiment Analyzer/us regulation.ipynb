{
 "cells": [
  {
   "cell_type": "code",
   "execution_count": 1,
   "metadata": {},
   "outputs": [
    {
     "name": "stderr",
     "output_type": "stream",
     "text": [
      "[nltk_data] Downloading package vader_lexicon to\n",
      "[nltk_data]     /Users/alfred/nltk_data...\n",
      "[nltk_data]   Package vader_lexicon is already up-to-date!\n"
     ]
    },
    {
     "data": {
      "text/plain": [
       "True"
      ]
     },
     "execution_count": 1,
     "metadata": {},
     "output_type": "execute_result"
    }
   ],
   "source": [
    "from nltk.sentiment.vader import SentimentIntensityAnalyzer as SIA\n",
    "import matplotlib.pyplot as plt\n",
    "import numpy as np\n",
    "from pandas import read_csv\n",
    "import nltk\n",
    "nltk.download('vader_lexicon')"
   ]
  },
  {
   "cell_type": "code",
   "execution_count": 10,
   "metadata": {},
   "outputs": [
    {
     "name": "stdout",
     "output_type": "stream",
     "text": [
      "2016/3/10 Japan Debates Bitcoin Sales Tax, Stricter Rules for Exchanges 0.0 0.6597\n",
      "2016/4/13 US Comptroller of the Currency Calls for Innovative Regulations on Digital Currencies and FinTech 0.4404 0.9984\n",
      "2016/4/25 The United States Is Falling Behind in Bitcoin Regulation 0.296 0.9985\n",
      "2016/6/29 The Securities Law Implications of the DAO Hack and Proposed Ethereum Hard Fork 0.2023 0.902\n",
      "2016/7/28 Canadian Banks Experiment With Blockchain Technology; Fintech Sector Calls for Regulatory Certainty 0.25 0.9972\n",
      "2016/11/21 Bitcoin Transactions and American Taxation: An Interview With Daniel Winters 0.0 0.9984\n",
      "2016/11/23 IRS vs Coinbase: Massive Implications for Bitcoin, Digital Currencies 0.0 0.9625\n",
      "2016/12/5 EU State-By-State Regulation of Bitcoin, Digital Currencies: What Are the Implications? 0.0 0.9732\n",
      "2017/1/31 Will Trump’s New Policies Boost U.S.–Mexico Bitcoin Remittances? 0.4019 0.9529\n",
      "2017/2/27 What the New Congressional Caucus Could Mean for Bitcoin 0.0 0.9976\n",
      "2017/3/10 New Coalition Formed to Lobby for Clarity in Digital Asset Tax Policies 0.6486 0.9948\n",
      "2017/3/11 SEC Dashes Hopes of a Bitcoin ETF — For Now 0.4215 0.9929\n",
      "2017/3/17 Bitcoin Traders Report Some Bank Accounts Still Being Terminated 0.0 0.8402\n",
      "2017/4/21 Making the Case for Bitcoin as Legal Property\n",
      "“Interests in bitcoin should be protected by property law,” the Perkins Coie white paper concludes. 0.5267 0.9824\n",
      "2017/4/21 Attorney Pamela Morgan Explores Initial Coin Offerings from a Legal Perspective\n",
      "“The law cares about how you use these technologies...If you use it like a stock, you’re probably going to be regulated as if it’s a stock.” 0.7184 0.9897\n",
      "2017/5/8 Bitcoin Investment Trust Ups Its Proposed IPO But Approval Is Still In Question 0.7506 0.9953\n",
      "2017/5/15 How Five States Are Approaching Bitcoin Regulation 0.0 0.9957\n",
      "2017/6/10 Coin Center to Congress: Give Blockchain Developers \"Safe Harbor\" 0.4404 -0.9684\n",
      "2017/6/13 Nevada Takes a Chance on Pro-Blockchain Legislation 0.25 0.997\n",
      "2017/6/22 U.S. Bill Requiring Travelers to Declare Digital Currencies Resurfaces 0.0 0.8876\n",
      "2017/7/13 Some Small Movement in Cryptocurrency Regulatory Challenges This Week 0.0772 -0.9697\n",
      "2017/7/26 SEC Weighs In on ICO Tokens as Securities; Ether Still Labeled “Currency” 0.296 0.9982\n",
      "2017/7/31 Op Ed: Launching an ICO? Follow This Advice from the SEC 0.0 0.946\n",
      "2017/8/30 Op Ed: Planning an ICO in Canada? Here are 10 Regulatory Points to Ponder 0.0 0.9994\n",
      "2017/9/1 Israel Securities Authority to Form Committee to Oversee and Regulate ICOs 0.3612 0.8059\n",
      "2017/9/6 Op Ed: Beware the Perils of Over-Regulation for ICOs 0.0 0.9978\n",
      "2017/10/2 South Korea's ICO Ban: A Reaction to \"Serious Concerns\" Over Cryptocurrency Investment Practices -0.5994 -0.9223\n",
      "2017/10/3 Op Ed: Where Pseudonymous Cryptocurrency Transactions Meet AML Reporting Requirements 0.7297 0.2766\n",
      "2017/10/4 Op Ed: The SEC Is Watching Cryptocurrencies, So Beware — But Don't Overreact 0.1877 0.9971\n",
      "2017/11/15 New “Semi-Decentralized” Cryptocurrency Exchange Navigates Murky Compliance Waters 0.0 0.9989\n",
      "2017/12/11 Munchee ICO Halted by SEC for Securities Violations -0.296 0.8994\n",
      "2017/12/14 South Korea Moves to Regulate Domestic Bitcoin Trading, Exchanges 0.0 0.825\n",
      "2018/1/5 SEC/NASAA Ring in 2018 by Hinting at Need for (More) Cryptocurrency Regulation 0.0 0.9945\n",
      "2018/1/8 CFTC to Discuss Digital Currency Futures Certification Process 0.0 0.9702\n",
      "2018/1/9 UBI Blockchain Is the Latest in Series of SEC Cryptocurrency Crackdown Targets 0.0 0.128\n",
      "2018/1/31 SEC Halts AriseBank ICO, Calling It “an Outright Scam” 0.0 -0.9118\n",
      "2018/2/1 Cryptocurrency Regulation in 2018: Where the World Stands Right Now 0.0 0.9936\n",
      "2018/2/6 SEC and CFTC Give Testimonies at Senate Hearing on Virtual Currencies 0.0 0.9985\n",
      "2018/2/6 SEC Chair’s Written Testimony Hints at Moderation for Cryptocurrencies, but ICOs Be Warned -0.3919 0.9872\n",
      "2018/2/9 Hong Kong Regulators Send Warnings to Non-Compliant Cryptocurrency Exchanges -0.296 -0.9878\n",
      "2018/2/9 Japanese Exchange bitFlyer Approved to Operate in Illinois 0.4215 0.9524\n",
      "2018/2/15 CFTC Advisory Committee Recommends Creation of Virtual Currency Subcommittee 0.4588 0.989\n",
      "2018/2/16 SEC Suspends Trading of 3 Penny Stocks With Tenuous Ties to Cryptocurrency, Blockchain 0.0 0.9861\n",
      "2018/2/20 Wyoming House Unanimously Approves Two Pro-Blockchain Bills 0.4019 0.9865\n",
      "2018/2/22 Government of Spain Considers Blockchain-Friendly Regulations 0.0 0.9985\n",
      "2018/3/1 SEC Sends Wave of Subpoenas to ICOs 0.0 -0.1985\n",
      "2018/3/6 Wyoming Blockchain Bill Rockets Ahead for Signing 0.0 0.9936\n",
      "2018/3/8 Japan Toughens Oversight, Penalizes Cryptocurrency Exchanges -0.0516 0.8912\n",
      "2018/3/13 New York Legislator Proposes BitLicense Alternative for Cryptocurrency Users 0.0 0.9958\n",
      "2018/3/14 Congressional Hearings: We Must Distinguish Digital Commodities From ICOs 0.0 0.9979\n",
      "2018/3/14 Op Ed: FinCEN Policy Positions Offer Murky Guidance for ICOs 0.0 0.9288\n",
      "2018/3/20 Mark Carney: Cryptocurrencies Do Not Pose Serious Risks 0.2584 0.4867\n",
      "2018/3/23 Binance Seeks New Home in Malta’s Fintech-Friendly Environment 0.0 0.9549\n",
      "2018/3/26 Op Ed: A Quick-Start Token Sale Compliance Guide: What You Need to Know 0.0 0.9996\n",
      "2018/3/30 Op Ed: France’s Emerging Cryptocurrency Policy Appears Optimistically Vague 0.4019 0.9949\n",
      "2018/4/6 Coinbase Takes Steps Toward Becoming an Alternative Trading System 0.0 0.9856\n",
      "2018/4/6 South Africans Instructed to Pay Tax on Bitcoin and Cryptocurrency Earnings -0.1027 0.9585\n",
      "2018/4/9 Here’s How Taxes Are Harming Bitcoin’s Usefulness as a Payment Method -0.34 0.9953\n",
      "2018/4/10 A \"Law-Abiding\" Blockchain Alternative for India’s Financial Exchanges 0.0 0.9939\n",
      "2018/4/16 When the Taxman Comes Knocking, Will Americans Report Crypto Gains? 0.34 0.9913\n",
      "2018/4/20 “Venture Capital Working Group” Seeks Select Cryptocurrency “Safe Harbor” 0.0 0.9845\n",
      "2018/4/20 Cofounder’s FINRA Suspension Could Hold Consequences for Tezos 0.0 0.9728\n",
      "2018/4/26 Regulatory Clarity Should Lead to More Capital Investment in Crypto: Panel 0.4019 0.9827\n",
      "2018/4/27 Latest SEC Hearing into Cryptocurrencies Offers Glimmer of Light 0.0 0.9959\n",
      "2018/5/11 How Japan Is Creating a Template for Cryptocurrency Regulation 0.296 0.8346\n",
      "2018/6/7 SEC Chairman: Cryptocurrencies Like Bitcoin Are Not Securities, but Most ICOs Are 0.0788 0.977\n",
      "2018/6/14 SEC Director of Corporate Finance: Ether Is Not a Security -0.2584 0.9962\n",
      "2018/6/29 A Nuanced Look At Crypto Assets as Securities In Light of SEC Comments 0.4404 0.988\n",
      "2018/7/3 SEC Seeks Comments on Another Bitcoin ETF 0.0 0.9926\n",
      "2018/7/19 A Basic Guide to the Digital Age: Breaking Down Congress’ Crypto Hearing 0.0 0.9986\n",
      "2018/8/3 “Not a Great Precedent”: Commissioner Discusses the SEC’s Latest ETF Decision 0.6249 0.9992\n",
      "2018/8/6 Coinbase Renews Money Transmitter License in Wyoming, Reopens Services in State 0.0 0.991\n",
      "2018/8/8 The SEC Is Delaying Another Bitcoin ETF Decision 0.0 -0.4951\n",
      "2018/8/10 Op Ed: Exploring the SEC’s New “Sufficiently Decentralized” Test 0.0 0.9288\n",
      "2018/8/21 Top Crypto Exchanges Join Winklevosses’ Self-Regulatory Organization 0.4588 0.9906\n",
      "2018/8/23 U.S. SEC Denies Nine More Bitcoin ETFs -0.4215 -0.0775\n",
      "2018/8/28 Canada Delays Regulation of Cryptocurrencies and Blockchain Companies 0.0 0.9981\n",
      "2018/8/30 As Venezuela Takes Aim at Remittances, Bitcoiners Take Collateral Damage -0.4939 0.4657\n",
      "2018/9/5 Abra CEO Believes Bitcoin ETF Eminent, SEC Just Needs the Right Suitor 0.0 0.5896\n",
      "2018/9/10 U.S. SEC Suspends Trading for Two Swedish-Based Crypto ETNs 0.0 0.5494\n",
      "2018/9/11 Two-for-One: SEC Slaps Crypto Hedge Fund, Broker With Registration Failures -0.4588 0.9903\n",
      "2018/9/11 A New Precedent: FINRA Charges Crypto Broker With Securities Fraud -0.5719 -0.0181\n",
      "2018/9/18 Cryptocurrency Exchanges Fall Short in Safeguarding Funds: Report 0.2732 -0.9886\n",
      "2018/9/20 Congressional Committee Calls for Clearer Crypto Tax Code in Letter to IRS 0.0 0.951\n",
      "2018/9/20 “Someone’s Got to Be the Voice of Reason” — Kraken Responds to NY AG Report 0.0 0.9317\n",
      "2018/9/22 U.S. Congressman Drafts Blockchain Development Bills 0.0 0.993\n",
      "2018/9/27 Crypto Task Force Bill Passes House of Representatives, Moves to Senate 0.0 -0.9025\n",
      "2018/10/3 Brave CEO Pens Letter to Senate Committee Asking for GDPR-Like Privacy Regulation 0.5267 0.9952\n",
      "2018/10/11 SEC Obtains Emergency Court Order to Halt Questionable ICO -0.5859 0.9765\n",
      "2018/10/12 Roubini Faces Off With Coin Center’s Van Valkenburgh at Senate Hearing 0.0 0.9765\n",
      "2018/10/18 SEC Sets Up Open Line of Communication for Fintech Projects With FinHub 0.0 0.9899\n",
      "2018/10/20 Marco Santori on Airdrops and the “Complete Picture” of SAFT Regulation 0.0 0.9962\n",
      "2018/10/24 Japanese Financial Services Authority Approves Self-Regulation for Crypto 0.4588 0.9756\n",
      "2018/11/1 Coinsource Receives BitLicense to Operate Bitcoin ATMs in New York 0.0 0.9892\n",
      "2018/11/2 SEC’s End-of-Fiscal-Year Report Reveals Heavy Action Against ICO-Related Fraud -0.5859 -0.9838\n",
      "2018/11/8 EtherDelta Founder Charged by SEC For Operating an Unregistered Exchange -0.2023 0.9539\n",
      "2018/11/8 In the Race for a Bitcoin ETF, Wall Street Has Plenty of Hurdles to Clear 0.3818 -0.9934\n",
      "2018/11/16 “We Did This With Gold”: Could VanEck Be Bitcoin’s Best Bet for an ETF? 0.6369 0.9994\n",
      "2018/11/19 New Cryptocurrency-Based ETP Arrives in Switzerland 0.0 -0.6735\n",
      "2018/11/19 Federal Election Commission Gives Green Light for Political Mining Pool Donations 0.0 0.9492\n",
      "2018/11/28 In Cautionary Speech, Chairman Clayton Parrots SEC’s Bitcoin ETF Concerns 0.0 0.1027\n"
     ]
    },
    {
     "name": "stdout",
     "output_type": "stream",
     "text": [
      "2018/11/30 “Guidance by Enforcement”: How the SEC Is Slowly Shaping ICO Regulation 0.0 0.9505\n",
      "2018/12/4 As It Ramps Up Enforcement, the SEC Has Been Looking Abroad for Assistance 0.0 -0.0258\n",
      "2018/12/7 U.S. SEC Delays Decision on VanEck's Bitcoin ETF Until February 2019 0.0 0.9173\n",
      "2018/12/28 There May Be (Some) Tax Relief Options if You Sold Your Bitcoin at a Loss 0.2023 0.6968\n",
      "2019/1/23 Elections Canada Consults With Political Parties on Crypto Donations 0.4019 0.9964\n",
      "2019/2/1 B2C2 Gets Go-Ahead from U.K. Regulators to List Bitcoin Derivative 0.0 0.9835\n",
      "2019/2/1 Cboe Files (Again) for (Yet Another) Bitcoin ETF 0.0 0.965\n",
      "2019/2/18 SEC to Review NYSE Arca Bitwise Bitcoin ETF Proposal 0.0 0.34\n",
      "2019/3/8 Canadian Federal Tax Agency Targets Bitcoin Investors 0.0 0.8388\n",
      "2019/3/13 CipherTrace Partners with Maltese Regulators to Manage Risk of Financial Crimes -0.2732 0.9801\n",
      "2019/3/14 MIT Bitcoin: Legislators Discuss Regulation, Potential of Blockchain Tech 0.0 0.9977\n",
      "2019/4/3 In Plain English: SEC Publishes Guidance on Tokens as Securities 0.296 0.9992\n",
      "2019/4/10 Bitstamp Receives New York BitLicense 0.0 0.9694\n",
      "2019/4/11 Bittrex Goes on the Offensive After BitLicense Rejection -0.7579 0.7765\n",
      "2019/4/12 Bitcoin Trader Sentenced to Two-Year Prison Term -0.5267 0.1779\n",
      "2019/4/17 Cartoon: Distorting Mirrors -0.2732 -0.6705\n"
     ]
    }
   ],
   "source": [
    "data = read_csv('Regulation.csv',header=0)\n",
    "collection = []\n",
    "us=0\n",
    "sia = SIA()\n",
    "for i in range(0,data.shape[0]):\n",
    "    z= data.iloc[i].values[2]\n",
    "    rs=z.replace('\\n', '')\n",
    "    rs1=rs.replace('\\r','')\n",
    "    date = data.iloc[i].values[0]\n",
    "    title = data.iloc[i].values[1]\n",
    "    if'U.S.'in rs1 or 'SEC'in rs1:\n",
    "        us=us+1\n",
    "        title_score = sia.polarity_scores(title)\n",
    "        content_score = sia.polarity_scores(rs1)\n",
    "        print(date, title, title_score['compound'],content_score['compound'])"
   ]
  },
  {
   "cell_type": "code",
   "execution_count": null,
   "metadata": {},
   "outputs": [],
   "source": []
  }
 ],
 "metadata": {
  "kernelspec": {
   "display_name": "Python 3",
   "language": "python",
   "name": "python3"
  },
  "language_info": {
   "codemirror_mode": {
    "name": "ipython",
    "version": 3
   },
   "file_extension": ".py",
   "mimetype": "text/x-python",
   "name": "python",
   "nbconvert_exporter": "python",
   "pygments_lexer": "ipython3",
   "version": "3.7.3"
  }
 },
 "nbformat": 4,
 "nbformat_minor": 2
}
