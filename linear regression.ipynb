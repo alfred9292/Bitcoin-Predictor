{
 "cells": [
  {
   "cell_type": "code",
   "execution_count": 1,
   "metadata": {},
   "outputs": [],
   "source": [
    "from sklearn.linear_model import LinearRegression\n",
    "from pandas import read_csv"
   ]
  },
  {
   "cell_type": "code",
   "execution_count": 6,
   "metadata": {},
   "outputs": [
    {
     "name": "stdout",
     "output_type": "stream",
     "text": [
      "0.2596333124400525\n"
     ]
    },
    {
     "data": {
      "text/plain": [
       "array([0.00398088])"
      ]
     },
     "execution_count": 6,
     "metadata": {},
     "output_type": "execute_result"
    }
   ],
   "source": [
    "df = read_csv('Final.csv',header=0)\n",
    "array=df.values\n",
    "vol=array[:,2].reshape(-1, 1)\n",
    "z=array[:,1]\n",
    "reg = LinearRegression().fit(vol,z)\n",
    "print(reg.score(vol,z))\n",
    "reg.coef_"
   ]
  },
  {
   "cell_type": "code",
   "execution_count": 9,
   "metadata": {},
   "outputs": [
    {
     "name": "stdout",
     "output_type": "stream",
     "text": [
      "0.4297008243945307\n"
     ]
    },
    {
     "data": {
      "text/plain": [
       "array([0.016038])"
      ]
     },
     "execution_count": 9,
     "metadata": {},
     "output_type": "execute_result"
    }
   ],
   "source": [
    "add=array[:,3].reshape(-1, 1)\n",
    "reg = LinearRegression().fit(add,z)\n",
    "print(reg.score(add,z))\n",
    "reg.coef_"
   ]
  },
  {
   "cell_type": "code",
   "execution_count": 10,
   "metadata": {},
   "outputs": [
    {
     "name": "stdout",
     "output_type": "stream",
     "text": [
      "0.08395283328219061\n"
     ]
    },
    {
     "data": {
      "text/plain": [
       "array([0.01774032])"
      ]
     },
     "execution_count": 10,
     "metadata": {},
     "output_type": "execute_result"
    }
   ],
   "source": [
    "trn=array[:,4].reshape(-1, 1)\n",
    "reg = LinearRegression().fit(trn,z)\n",
    "print(reg.score(trn,z))\n",
    "reg.coef_"
   ]
  },
  {
   "cell_type": "code",
   "execution_count": 11,
   "metadata": {},
   "outputs": [
    {
     "name": "stdout",
     "output_type": "stream",
     "text": [
      "0.30676234735478447\n"
     ]
    },
    {
     "data": {
      "text/plain": [
       "array([8.70800644e-10])"
      ]
     },
     "execution_count": 11,
     "metadata": {},
     "output_type": "execute_result"
    }
   ],
   "source": [
    "diff=array[:,5].reshape(-1, 1)\n",
    "reg = LinearRegression().fit(diff,z)\n",
    "print(reg.score(diff,z))\n",
    "reg.coef_"
   ]
  },
  {
   "cell_type": "code",
   "execution_count": 12,
   "metadata": {},
   "outputs": [
    {
     "name": "stdout",
     "output_type": "stream",
     "text": [
      "0.004418302668514507\n"
     ]
    },
    {
     "data": {
      "text/plain": [
       "array([-229.07656715])"
      ]
     },
     "execution_count": 12,
     "metadata": {},
     "output_type": "execute_result"
    }
   ],
   "source": [
    "minimun=array[:,6].reshape(-1, 1)\n",
    "reg = LinearRegression().fit(minimun,z)\n",
    "print(reg.score(minimun,z))\n",
    "reg.coef_"
   ]
  },
  {
   "cell_type": "code",
   "execution_count": 13,
   "metadata": {},
   "outputs": [
    {
     "name": "stdout",
     "output_type": "stream",
     "text": [
      "0.028797700932873593\n"
     ]
    },
    {
     "data": {
      "text/plain": [
       "array([0.00393704])"
      ]
     },
     "execution_count": 13,
     "metadata": {},
     "output_type": "execute_result"
    }
   ],
   "source": [
    "blocksize=array[:,7].reshape(-1, 1)\n",
    "reg = LinearRegression().fit(blocksize,z)\n",
    "print(reg.score(blocksize,z))\n",
    "reg.coef_"
   ]
  },
  {
   "cell_type": "code",
   "execution_count": 14,
   "metadata": {},
   "outputs": [
    {
     "name": "stdout",
     "output_type": "stream",
     "text": [
      "0.8819935318540447\n"
     ]
    },
    {
     "data": {
      "text/plain": [
       "array([57.36293453])"
      ]
     },
     "execution_count": 14,
     "metadata": {},
     "output_type": "execute_result"
    }
   ],
   "source": [
    "lite=array[:,8].reshape(-1, 1)\n",
    "reg = LinearRegression().fit(lite,z)\n",
    "print(reg.score(lite,z))\n",
    "reg.coef_"
   ]
  },
  {
   "cell_type": "code",
   "execution_count": 15,
   "metadata": {},
   "outputs": [
    {
     "name": "stdout",
     "output_type": "stream",
     "text": [
      "0.17591953228503465\n"
     ]
    },
    {
     "data": {
      "text/plain": [
       "array([20.98465592])"
      ]
     },
     "execution_count": 15,
     "metadata": {},
     "output_type": "execute_result"
    }
   ],
   "source": [
    "gold=array[:,9].reshape(-1, 1)\n",
    "reg = LinearRegression().fit(gold,z)\n",
    "print(reg.score(gold,z))\n",
    "reg.coef_"
   ]
  },
  {
   "cell_type": "code",
   "execution_count": 16,
   "metadata": {},
   "outputs": [
    {
     "name": "stdout",
     "output_type": "stream",
     "text": [
      "0.47520433628058434\n"
     ]
    },
    {
     "data": {
      "text/plain": [
       "array([255.79065214])"
      ]
     },
     "execution_count": 16,
     "metadata": {},
     "output_type": "execute_result"
    }
   ],
   "source": [
    "oil=array[:,10].reshape(-1, 1)\n",
    "reg = LinearRegression().fit(oil,z)\n",
    "print(reg.score(oil,z))\n",
    "reg.coef_"
   ]
  },
  {
   "cell_type": "code",
   "execution_count": 17,
   "metadata": {},
   "outputs": [
    {
     "name": "stdout",
     "output_type": "stream",
     "text": [
      "0.5969305554373219\n"
     ]
    },
    {
     "data": {
      "text/plain": [
       "array([61742.75665895])"
      ]
     },
     "execution_count": 17,
     "metadata": {},
     "output_type": "execute_result"
    }
   ],
   "source": [
    "exg=array[:,11].reshape(-1, 1)\n",
    "reg = LinearRegression().fit(exg,z)\n",
    "print(reg.score(exg,z))\n",
    "reg.coef_"
   ]
  },
  {
   "cell_type": "code",
   "execution_count": 18,
   "metadata": {},
   "outputs": [
    {
     "name": "stdout",
     "output_type": "stream",
     "text": [
      "0.3707316277192825\n"
     ]
    },
    {
     "data": {
      "text/plain": [
       "array([0.08024919])"
      ]
     },
     "execution_count": 18,
     "metadata": {},
     "output_type": "execute_result"
    }
   ],
   "source": [
    "wiki=array[:,12].reshape(-1, 1)\n",
    "reg = LinearRegression().fit(wiki,z)\n",
    "print(reg.score(wiki,z))\n",
    "reg.coef_"
   ]
  },
  {
   "cell_type": "code",
   "execution_count": 19,
   "metadata": {},
   "outputs": [
    {
     "name": "stdout",
     "output_type": "stream",
     "text": [
      "0.5177549317755854\n"
     ]
    },
    {
     "data": {
      "text/plain": [
       "array([0.13224776])"
      ]
     },
     "execution_count": 19,
     "metadata": {},
     "output_type": "execute_result"
    }
   ],
   "source": [
    "twt=array[:,13].reshape(-1, 1)\n",
    "reg = LinearRegression().fit(twt,z)\n",
    "print(reg.score(twt,z))\n",
    "reg.coef_"
   ]
  },
  {
   "cell_type": "code",
   "execution_count": 21,
   "metadata": {},
   "outputs": [
    {
     "name": "stdout",
     "output_type": "stream",
     "text": [
      "0.9865307991186117\n"
     ]
    },
    {
     "data": {
      "text/plain": [
       "array([1.04270012])"
      ]
     },
     "execution_count": 21,
     "metadata": {},
     "output_type": "execute_result"
    }
   ],
   "source": [
    "three_moving_average=array[:,14].reshape(-1, 1)\n",
    "reg = LinearRegression().fit(three_moving_average,z)\n",
    "print(reg.score(three_moving_average,z))\n",
    "reg.coef_"
   ]
  },
  {
   "cell_type": "code",
   "execution_count": 22,
   "metadata": {},
   "outputs": [
    {
     "name": "stdout",
     "output_type": "stream",
     "text": [
      "0.9780683421205498\n"
     ]
    },
    {
     "data": {
      "text/plain": [
       "array([0.99225039])"
      ]
     },
     "execution_count": 22,
     "metadata": {},
     "output_type": "execute_result"
    }
   ],
   "source": [
    "nine_moving_average=array[:,15].reshape(-1, 1)\n",
    "reg = LinearRegression().fit(nine_moving_average,z)\n",
    "print(reg.score(nine_moving_average,z))\n",
    "reg.coef_"
   ]
  },
  {
   "cell_type": "code",
   "execution_count": 23,
   "metadata": {},
   "outputs": [
    {
     "name": "stdout",
     "output_type": "stream",
     "text": [
      "0.9658628265591321\n"
     ]
    },
    {
     "data": {
      "text/plain": [
       "array([0.98806535])"
      ]
     },
     "execution_count": 23,
     "metadata": {},
     "output_type": "execute_result"
    }
   ],
   "source": [
    "four_moving_average=array[:,16].reshape(-1, 1)\n",
    "reg = LinearRegression().fit(four_moving_average,z)\n",
    "print(reg.score(four_moving_average,z))\n",
    "reg.coef_"
   ]
  },
  {
   "cell_type": "code",
   "execution_count": 25,
   "metadata": {},
   "outputs": [
    {
     "name": "stdout",
     "output_type": "stream",
     "text": [
      "0.009419982915337966\n"
     ]
    },
    {
     "data": {
      "text/plain": [
       "array([718.59066798])"
      ]
     },
     "execution_count": 25,
     "metadata": {},
     "output_type": "execute_result"
    }
   ],
   "source": [
    "wsj=array[:,17].reshape(-1, 1)\n",
    "reg = LinearRegression().fit(wsj,z)\n",
    "print(reg.score(wsj,z))\n",
    "reg.coef_"
   ]
  },
  {
   "cell_type": "code",
   "execution_count": 26,
   "metadata": {},
   "outputs": [
    {
     "name": "stdout",
     "output_type": "stream",
     "text": [
      "0.09541050753215485\n"
     ]
    },
    {
     "data": {
      "text/plain": [
       "array([1511.68693897])"
      ]
     },
     "execution_count": 26,
     "metadata": {},
     "output_type": "execute_result"
    }
   ],
   "source": [
    "laws=array[:,18].reshape(-1, 1)\n",
    "reg = LinearRegression().fit(laws,z)\n",
    "print(reg.score(laws,z))\n",
    "reg.coef_"
   ]
  },
  {
   "cell_type": "code",
   "execution_count": 27,
   "metadata": {},
   "outputs": [
    {
     "name": "stdout",
     "output_type": "stream",
     "text": [
      "0.0007989627087746642\n"
     ]
    },
    {
     "data": {
      "text/plain": [
       "array([-133.4329325])"
      ]
     },
     "execution_count": 27,
     "metadata": {},
     "output_type": "execute_result"
    }
   ],
   "source": [
    "privacy=array[:,19].reshape(-1, 1)\n",
    "reg = LinearRegression().fit(privacy,z)\n",
    "print(reg.score(privacy,z))\n",
    "reg.coef_"
   ]
  },
  {
   "cell_type": "code",
   "execution_count": 8,
   "metadata": {},
   "outputs": [
    {
     "name": "stdout",
     "output_type": "stream",
     "text": [
      "0.0003532256730999217\n"
     ]
    },
    {
     "data": {
      "text/plain": [
       "array([139.05656782])"
      ]
     },
     "execution_count": 8,
     "metadata": {},
     "output_type": "execute_result"
    }
   ],
   "source": [
    "df = read_csv('data output2.csv',header=0)\n",
    "array=df.values\n",
    "sentiment=array[:,18].reshape(-1, 1)\n",
    "z=array[:,2]\n",
    "reg = LinearRegression().fit(vol,z)\n",
    "print(reg.score(sentiment,z))\n",
    "reg.coef_"
   ]
  },
  {
   "cell_type": "code",
   "execution_count": null,
   "metadata": {},
   "outputs": [],
   "source": []
  }
 ],
 "metadata": {
  "kernelspec": {
   "display_name": "Python 3",
   "language": "python",
   "name": "python3"
  },
  "language_info": {
   "codemirror_mode": {
    "name": "ipython",
    "version": 3
   },
   "file_extension": ".py",
   "mimetype": "text/x-python",
   "name": "python",
   "nbconvert_exporter": "python",
   "pygments_lexer": "ipython3",
   "version": "3.7.3"
  }
 },
 "nbformat": 4,
 "nbformat_minor": 2
}
