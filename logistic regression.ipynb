{
 "cells": [
  {
   "cell_type": "code",
   "execution_count": 10,
   "metadata": {},
   "outputs": [],
   "source": [
    "import pandas as df\n",
    "from pandas import Series \n",
    "from pandas import read_csv\n",
    "from matplotlib import pyplot\n",
    "import matplotlib.pyplot as plt\n",
    "from sklearn.linear_model import LogisticRegression\n",
    "import numpy as np"
   ]
  },
  {
   "cell_type": "code",
   "execution_count": 12,
   "metadata": {},
   "outputs": [
    {
     "data": {
      "text/plain": [
       "LogisticRegression(C=1.0, class_weight=None, dual=False, fit_intercept=True,\n",
       "          intercept_scaling=1, max_iter=100, multi_class='ovr', n_jobs=1,\n",
       "          penalty='l2', random_state=None, solver='liblinear', tol=0.0001,\n",
       "          verbose=0, warm_start=False)"
      ]
     },
     "execution_count": 12,
     "metadata": {},
     "output_type": "execute_result"
    }
   ],
   "source": [
    "df = read_csv('table_output.csv',header=0)\n",
    "array=df.values\n",
    "#print(array)\n",
    "x=array[:,2:11].astype('int')\n",
    "y=array[:,1].astype('int')\n",
    "#print(x)\n",
    "#print(y)\n",
    "clf= LogisticRegression()\n",
    "clf.fit(x,y)"
   ]
  },
  {
   "cell_type": "code",
   "execution_count": 13,
   "metadata": {},
   "outputs": [
    {
     "name": "stdout",
     "output_type": "stream",
     "text": [
      "[[-3.33883115e-14 -3.92980812e-16 -1.96013094e-16 ... -1.24211419e-21\n",
      "  -1.07480909e-17 -3.67035248e-17]\n",
      " [-3.51066359e-14 -3.74441157e-16 -1.92912311e-16 ... -1.24211531e-21\n",
      "  -8.97275621e-18 -4.00094694e-17]\n",
      " [-6.02833164e-14 -3.91553294e-16 -1.95222711e-16 ... -1.24212274e-21\n",
      "  -9.71679978e-18 -4.03359947e-17]\n",
      " ...\n",
      " [ 3.67407037e-09 -2.96834788e-12 -1.49697905e-12 ... -1.10056598e-17\n",
      "  -9.39046578e-14 -3.51693293e-13]\n",
      " [ 3.76239706e-09 -2.72084617e-12 -1.36614959e-12 ... -1.00604149e-17\n",
      "  -8.51989436e-14 -3.16130950e-13]\n",
      " [ 3.77545570e-09 -2.89138382e-12 -1.46114347e-12 ... -1.08802120e-17\n",
      "  -9.44768477e-14 -3.47940550e-13]]\n"
     ]
    }
   ],
   "source": [
    "print(clf.coef_)"
   ]
  },
  {
   "cell_type": "code",
   "execution_count": null,
   "metadata": {},
   "outputs": [],
   "source": []
  }
 ],
 "metadata": {
  "kernelspec": {
   "display_name": "Python 3",
   "language": "python",
   "name": "python3"
  },
  "language_info": {
   "codemirror_mode": {
    "name": "ipython",
    "version": 3
   },
   "file_extension": ".py",
   "mimetype": "text/x-python",
   "name": "python",
   "nbconvert_exporter": "python",
   "pygments_lexer": "ipython3",
   "version": "3.6.4"
  }
 },
 "nbformat": 4,
 "nbformat_minor": 2
}
