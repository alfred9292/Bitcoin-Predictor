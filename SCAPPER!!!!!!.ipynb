{
 "cells": [
  {
   "cell_type": "code",
   "execution_count": 90,
   "metadata": {},
   "outputs": [],
   "source": [
    "import requests\n",
    "from bs4 import BeautifulSoup"
   ]
  },
  {
   "cell_type": "code",
   "execution_count": 91,
   "metadata": {},
   "outputs": [],
   "source": [
    "url = \"https://www.forbes.com/search/?startdate=year&q=bitcoin&sort=recent\"\n",
    "wbdata = requests.get(url).text"
   ]
  },
  {
   "cell_type": "code",
   "execution_count": 92,
   "metadata": {},
   "outputs": [],
   "source": [
    "soup = BeautifulSoup(wbdata,'lxml')"
   ]
  },
  {
   "cell_type": "code",
   "execution_count": 93,
   "metadata": {},
   "outputs": [],
   "source": [
    "news_titles = soup.select(\"div.stream-item__text>a.stream-item__title\")"
   ]
  },
  {
   "cell_type": "code",
   "execution_count": 94,
   "metadata": {},
   "outputs": [
    {
     "name": "stdout",
     "output_type": "stream",
     "text": [
      "[<a class=\"stream-item__title\" href=\"https://www.forbes.com/sites/lukefitzpatrick/2019/04/25/cheapair-to-accept-ethereum-payments/\">CheapAir Has Processed More Than 5 Million In Bitcoin Payments And Now Plans To Accept Ethereum</a>, <a class=\"stream-item__title\" href=\"https://www.forbes.com/sites/rogerhuang/2019/04/25/chinas-move-to-ban-cryptocurrency-mining-has-little-to-do-with-the-environment/\">China's Proposal to Ban Cryptocurrency Mining Has Little to Do With The Environment</a>, <a class=\"stream-item__title\" href=\"https://www.forbes.com/sites/nataliakarayaneva/2019/04/25/will-realtors-disappear-what-changes-2019-and-blockchain-bring-to-the-role-of-agents/\">Will Realtors Disappear? What Changes 2019 and Blockchain Bring to the Role of Agents</a>, <a class=\"stream-item__title\" href=\"https://www.forbes.com/sites/sarahhansen/2019/04/25/new-crypto-lending-report-institutional-traders-short-altcoins-but-not-bitcoin/\">New Crypto Lending Report: Institutional Traders Short Altcoins But Not Bitcoin</a>, <a class=\"stream-item__title\" href=\"https://www.forbes.com/sites/forbesfinancecouncil/2019/04/25/13-stock-market-truths-for-new-investors-from-leading-industry-experts/\">13 Stock Market Truths For New Investors From Leading Industry Experts</a>, <a class=\"stream-item__title\" href=\"https://www.forbes.com/sites/forbesdallascouncil/2019/04/25/are-micropayments-the-future-of-online-transactions/\">Are Micropayments The Future Of Online Transactions?</a>, <a class=\"stream-item__title\" href=\"https://www.forbes.com/sites/jpreissler/2019/04/25/a-day-of-losses-across-the-crypto-market/\">A Day Of Losses Across The Crypto Market</a>, <a class=\"stream-item__title\" href=\"https://www.forbes.com/sites/yoavvilner/2019/04/25/down-the-next-rabbit-hole-exploring-biockchains-second-layer/\">Down The Next Rabbit Hole: Exploring BIockchain's Second Layer</a>, <a class=\"stream-item__title\" href=\"https://www.forbes.com/sites/billybambrough/2019/04/25/lil-pump-is-getting-into-bitcoin/\">Lil Pump Is Getting Into Bitcoin</a>, <a class=\"stream-item__title\" href=\"https://www.forbes.com/sites/cbovaird/2019/04/24/why-is-bitcoin-outperforming-most-altcoins/\">Why Is Bitcoin Outperforming Most Altcoins?</a>, <a class=\"stream-item__title\" href=\"https://www.forbes.com/sites/jpreissler/2019/04/24/crypto-market-feels-determined-to-try-and-push-higher/\">Crypto Market Feels Determined To Try And Push Higher</a>, <a class=\"stream-item__title\" href=\"https://www.forbes.com/sites/andreatinianow/2019/04/24/wyoming-makes-digital-assets-a-priority-a-hypothetical/\">Wyoming Makes Digital Assets A Priority: A Hypothetical</a>, <a class=\"stream-item__title\" href=\"https://www.forbes.com/sites/billybambrough/2019/04/24/bitcoin-soars-as-ethereum-ripples-xrp-bitcoin-cash-and-eos-fall-heres-why/\">Bitcoin Soars As Ethereum, Ripple's XRP, Bitcoin Cash, And EOS Fall--Here's Why</a>, <a class=\"stream-item__title\" href=\"https://www.forbes.com/sites/ktorpey/2019/04/23/this-key-part-of-bitcoins-history-is-what-separates-it-from-competitors/\">This Key Part Of Bitcoin's History Is What Separates It From Competitors</a>, <a class=\"stream-item__title\" href=\"https://www.forbes.com/sites/jpreissler/2019/04/23/btc-is-determined-to-try-higher/\">Is BTC Determined To Try Higher?</a>, <a class=\"stream-item__title\" href=\"https://www.forbes.com/sites/billybambrough/2019/04/23/a-gemini-backed-bitcoin-interest-account-is-opening-up-to-more-people/\">A Gemini-Backed Bitcoin Interest Account Is Opening Up To More People</a>, <a class=\"stream-item__title\" href=\"https://www.forbes.com/sites/investor/2019/04/23/altcoins-are-ready-to-rock/\">Altcoins Are Ready To Rock</a>, <a class=\"stream-item__title\" href=\"https://www.forbes.com/sites/laurashin/2019/04/23/charlie-lee-on-why-litecoins-goal-is-to-be-used-for-payments/\">Charlie Lee On Why Litecoin's Goal Is To Be Used For Payments</a>, <a class=\"stream-item__title\" href=\"https://www.forbes.com/sites/billybambrough/2019/04/23/is-this-cryptocurrency-the-next-bitcoin/\">Is This Cryptocurrency The Next Bitcoin?</a>, <a class=\"stream-item__title\" href=\"https://www.forbes.com/sites/dantedisparte/2019/04/22/blockchain-as-a-design-principle/\">Navigating The Enterprise Blockchain Wars</a>]\n"
     ]
    }
   ],
   "source": [
    "print(news_titles)"
   ]
  },
  {
   "cell_type": "code",
   "execution_count": 95,
   "metadata": {},
   "outputs": [
    {
     "name": "stdout",
     "output_type": "stream",
     "text": [
      "CheapAir Has Processed More Than 5 Million In Bitcoin Payments And Now Plans To Accept Ethereum\n",
      "China's Proposal to Ban Cryptocurrency Mining Has Little to Do With The Environment\n",
      "Will Realtors Disappear? What Changes 2019 and Blockchain Bring to the Role of Agents\n",
      "New Crypto Lending Report: Institutional Traders Short Altcoins But Not Bitcoin\n",
      "13 Stock Market Truths For New Investors From Leading Industry Experts\n",
      "Are Micropayments The Future Of Online Transactions?\n",
      "A Day Of Losses Across The Crypto Market\n",
      "Down The Next Rabbit Hole: Exploring BIockchain's Second Layer\n",
      "Lil Pump Is Getting Into Bitcoin\n",
      "Why Is Bitcoin Outperforming Most Altcoins?\n",
      "Crypto Market Feels Determined To Try And Push Higher\n",
      "Wyoming Makes Digital Assets A Priority: A Hypothetical\n",
      "Bitcoin Soars As Ethereum, Ripple's XRP, Bitcoin Cash, And EOS Fall--Here's Why\n",
      "This Key Part Of Bitcoin's History Is What Separates It From Competitors\n",
      "Is BTC Determined To Try Higher?\n",
      "A Gemini-Backed Bitcoin Interest Account Is Opening Up To More People\n",
      "Altcoins Are Ready To Rock\n",
      "Charlie Lee On Why Litecoin's Goal Is To Be Used For Payments\n",
      "Is This Cryptocurrency The Next Bitcoin?\n",
      "Navigating The Enterprise Blockchain Wars\n"
     ]
    }
   ],
   "source": [
    "for n in news_titles:\n",
    "    title = n.get_text()\n",
    "    print(title)\n"
   ]
  },
  {
   "cell_type": "code",
   "execution_count": 146,
   "metadata": {},
   "outputs": [],
   "source": [
    "url = \"https://www.wsj.com/search/term.html?KEYWORDS=bitcoin&min-date=2015/07/01&max-date=2019/04/26&daysback=4y&isAdvanced=true&meta=bitcoin&andor=AND&sort=date-desc&source=wsjarticle,wsjblogs,wsjvideo,interactivemedia,sitesearch,wsjpro&page=2\"\n",
    "wbdata = requests.get(url).text"
   ]
  },
  {
   "cell_type": "code",
   "execution_count": 147,
   "metadata": {},
   "outputs": [],
   "source": [
    "soup = BeautifulSoup(wbdata,'lxml')"
   ]
  },
  {
   "cell_type": "code",
   "execution_count": 148,
   "metadata": {},
   "outputs": [],
   "source": [
    "news_titles = soup.select(\"h3.headline\")"
   ]
  },
  {
   "cell_type": "code",
   "execution_count": 149,
   "metadata": {},
   "outputs": [
    {
     "name": "stdout",
     "output_type": "stream",
     "text": [
      "[<h3 class=\"headline\"> <a href=\"/articles/meet-the-watchdog-called-cryptomom-11546606801?mod=searchresults&amp;page=2&amp;pos=1\">Meet the Watchdog Called CryptoMom</a> </h3>, <h3 class=\"headline\"> <a href=\"/articles/in-a-world-without-hard-cash-whats-left-to-steal-11546616752?mod=searchresults&amp;page=2&amp;pos=2\">In a World Without Hard Cash, What’s Left To Steal?</a> </h3>, <h3 class=\"headline\"> <a href=\"/articles/cryptos-2019-goal-technology-people-can-use-11546347601?mod=searchresults&amp;page=2&amp;pos=3\">Crypto’s 2019 Goal: Technology People Can Use</a> </h3>, <h3 class=\"headline\"> <a href=\"/articles/once-a-rebel-bitcoin-is-conforming-to-mainstream-markets-11546005600?mod=searchresults&amp;page=2&amp;pos=4\">Once a Rebel, Bitcoin Is Conforming to Mainstream Markets</a> </h3>, <h3 class=\"headline\"> <a href=\"/articles/make-the-most-of-your-failed-bitcoin-gamble-sell-now-11545388207?mod=searchresults&amp;page=2&amp;pos=5\">Make The Most of Your Failed Bitcoin Gamble: Sell Now</a> </h3>, <h3 class=\"headline\"> <a href=\"/articles/first-futures-contract-to-pay-out-in-bitcoin-poised-for-green-light-11545301801?mod=searchresults&amp;page=2&amp;pos=6\">First Futures Contract to Pay Out in Bitcoin Poised for Green Light</a> </h3>, <h3 class=\"headline\"> <a href=\"/articles/blythe-masters-a-former-wall-street-star-resigns-from-blockchain-startup-11545201373?mod=searchresults&amp;page=2&amp;pos=7\">Blythe Masters, a Former Wall Street Star, Resigns From Blockchain Startup</a> </h3>, <h3 class=\"headline\"> <a href=\"/articles/bitcoin-wasnt-a-bubble-until-it-was-11544783400?mod=searchresults&amp;page=2&amp;pos=8\">Bitcoin Wasn’t a Bubble Until It Was</a> </h3>, <h3 class=\"headline\"> <a href=\"/articles/layoffs-become-the-latest-thing-in-cryptocurrency-1544471449?mod=searchresults&amp;page=2&amp;pos=9\">Layoffs Become the Latest Thing in Cryptocurrency</a> </h3>, <h3 class=\"headline\"> <a href=\"/articles/thematic-etfs-are-the-rageuntil-they-fail-1544411040?mod=searchresults&amp;page=2&amp;pos=10\">Thematic ETFs Are the Rage—Until They Fail</a> </h3>, <h3 class=\"headline\"> <a href=\"/articles/two-iranians-indicted-in-atlanta-on-cyber-crime-charges-1544044025?mod=searchresults&amp;page=2&amp;pos=11\">Two Iranians Indicted in Atlanta on Cyber Crime Charges</a> </h3>, <h3 class=\"headline\"> <a href=\"/articles/u-s-sanctions-two-iranians-for-bitcoin-laundering-after-major-cyber-attacks-1543420984?mod=searchresults&amp;page=2&amp;pos=12\">U.S. Targets Iranian Hackers for Laundering Bitcoin In Connection to Major Ransomware Attack</a> </h3>, <h3 class=\"headline\"> <a href=\"/articles/bitcoin-falls-below-4-000-as-cryptocurrency-collapse-worsens-1543241154?mod=searchresults&amp;page=2&amp;pos=13\">Bitcoin Continues Steep Fall as Cryptocurrency Collapse Worsens</a> </h3>, <h3 class=\"headline\"> <a href=\"/articles/pay-taxes-with-bitcoin-ohio-says-sure-1543161720?mod=searchresults&amp;page=2&amp;pos=14\">Pay Taxes With Bitcoin? Ohio Says Sure</a> </h3>, <h3 class=\"headline\"> <a href=\"/articles/overstocks-founder-bets-on-blockchain-not-bedsheets-1542969001?mod=searchresults&amp;page=2&amp;pos=15\">Overstock’s Founder Bets on Blockchain, Not Bedsheets</a> </h3>, <h3 class=\"headline\"> <a href=\"/articles/bearish-on-bitcoin-crypto-markets-take-steep-dive-1542720141?mod=searchresults&amp;page=2&amp;pos=16\">Bearish on Bitcoin: Crypto Markets Take Steep Dive</a> </h3>, <h3 class=\"headline\"> <a href=\"/articles/nvidia-grapples-with-fallout-from-cryptocurrency-miners-1542395327?mod=searchresults&amp;page=2&amp;pos=17\">Nvidia Grapples With Cryptocurrency Miners’ Exit</a> </h3>, <h3 class=\"headline\"> <a href=\"/articles/nvidia-misses-forecasts-as-gaming-data-center-businesses-lag-1542320328?mod=searchresults&amp;page=2&amp;pos=18\">Cryptocurrency Hangover Weighs on Nvidia</a> </h3>, <h3 class=\"headline\"> <a href=\"/articles/firm-tied-to-cryptocurrency-entrepreneur-faces-sec-investigation-1542319602?mod=searchresults&amp;page=2&amp;pos=19\">Firm Tied to Cryptocurrency Entrepreneur Faces SEC Investigation</a> </h3>, <h3 class=\"headline\"> <a href=\"/articles/bitcoin-plunges-below-6-000-hits-new-lows-for-the-year-1542247659?mod=searchresults&amp;page=2&amp;pos=20\">Bitcoin Plunges Below $6,000, Hits New Lows for the Year</a> </h3>]\n"
     ]
    }
   ],
   "source": [
    "print(news_titles)"
   ]
  },
  {
   "cell_type": "code",
   "execution_count": 150,
   "metadata": {},
   "outputs": [
    {
     "name": "stdout",
     "output_type": "stream",
     "text": [
      " Meet the Watchdog Called CryptoMom \n",
      " In a World Without Hard Cash, What’s Left To Steal? \n",
      " Crypto’s 2019 Goal: Technology People Can Use \n",
      " Once a Rebel, Bitcoin Is Conforming to Mainstream Markets \n",
      " Make The Most of Your Failed Bitcoin Gamble: Sell Now \n",
      " First Futures Contract to Pay Out in Bitcoin Poised for Green Light \n",
      " Blythe Masters, a Former Wall Street Star, Resigns From Blockchain Startup \n",
      " Bitcoin Wasn’t a Bubble Until It Was \n",
      " Layoffs Become the Latest Thing in Cryptocurrency \n",
      " Thematic ETFs Are the Rage—Until They Fail \n",
      " Two Iranians Indicted in Atlanta on Cyber Crime Charges \n",
      " U.S. Targets Iranian Hackers for Laundering Bitcoin In Connection to Major Ransomware Attack \n",
      " Bitcoin Continues Steep Fall as Cryptocurrency Collapse Worsens \n",
      " Pay Taxes With Bitcoin? Ohio Says Sure \n",
      " Overstock’s Founder Bets on Blockchain, Not Bedsheets \n",
      " Bearish on Bitcoin: Crypto Markets Take Steep Dive \n",
      " Nvidia Grapples With Cryptocurrency Miners’ Exit \n",
      " Cryptocurrency Hangover Weighs on Nvidia \n",
      " Firm Tied to Cryptocurrency Entrepreneur Faces SEC Investigation \n",
      " Bitcoin Plunges Below $6,000, Hits New Lows for the Year \n"
     ]
    }
   ],
   "source": [
    "result=[]\n",
    "for n in news_titles:\n",
    "    title = n.get_text()\n",
    "    result.append(title)\n",
    "    print(title)"
   ]
  },
  {
   "cell_type": "code",
   "execution_count": 151,
   "metadata": {},
   "outputs": [
    {
     "name": "stdout",
     "output_type": "stream",
     "text": [
      "   Financial Regulation   \n",
      "   Moving Targets   \n",
      "   Markets   \n",
      "   Markets   \n",
      "   Tax Report   \n",
      "   Financial Regulation   \n",
      "   Markets   \n",
      "   Heard on the Street   \n",
      "   Markets   \n",
      "   Journal Reports: Funds & ETFs   \n",
      "   U.S.   \n",
      "   Politics   \n",
      "   Markets   \n",
      "   Markets   \n",
      "   Deals   \n",
      "   Markets   \n",
      "   Tech   \n",
      "   Tech   \n",
      "   Markets   \n",
      "   Markets   \n"
     ]
    }
   ],
   "source": [
    "result1=[]\n",
    "category = soup.select(\"div.category\")\n",
    "for n in category:\n",
    "    cate = n.get_text()\n",
    "    result1.append(cate)\n",
    "    print(cate)"
   ]
  },
  {
   "cell_type": "code",
   "execution_count": 152,
   "metadata": {},
   "outputs": [
    {
     "name": "stdout",
     "output_type": "stream",
     "text": [
      "['Jan. 4, 2019 12:21 pm ET', 'Jan. 4, 2019 10:45 am ET', 'Jan. 1, 2019 12:01 am ET', 'Dec. 28, 2018 9:00 am ET', 'Dec. 21, 2018 5:30 am ET', 'Dec. 20, 2018 5:30 am ET', 'Dec. 19, 2018 1:36 am ET', 'Dec. 14, 2018 5:30 am ET', 'Dec. 10, 2018 2:50 pm ET', 'Dec. 9, 2018 10:04 pm ET', 'Dec. 5, 2018 4:07 pm ET', 'Nov. 28, 2018 6:46 pm ET', 'Nov. 26, 2018 6:09 pm ET', 'Nov. 26, 2018 9:41 am ET', 'Nov. 23, 2018 5:30 am ET', 'Nov. 20, 2018 5:12 pm ET', 'Nov. 16, 2018 5:04 pm ET', 'Nov. 15, 2018 7:11 pm ET', 'Nov. 15, 2018 5:08 pm ET', 'Nov. 14, 2018 9:07 pm ET']\n",
      "Jan.\n",
      "4\n",
      "2019\n",
      "Jan.\n",
      "4\n",
      "2019\n",
      "Jan.\n",
      "1\n",
      "2019\n",
      "Dec.\n",
      "28\n",
      "2018\n",
      "Dec.\n",
      "21\n",
      "2018\n",
      "Dec.\n",
      "20\n",
      "2018\n",
      "Dec.\n",
      "19\n",
      "2018\n",
      "Dec.\n",
      "14\n",
      "2018\n",
      "Dec.\n",
      "10\n",
      "2018\n",
      "Dec.\n",
      "9\n",
      "2018\n",
      "Dec.\n",
      "5\n",
      "2018\n",
      "Nov.\n",
      "28\n",
      "2018\n",
      "Nov.\n",
      "26\n",
      "2018\n",
      "Nov.\n",
      "26\n",
      "2018\n",
      "Nov.\n",
      "23\n",
      "2018\n",
      "Nov.\n",
      "20\n",
      "2018\n",
      "Nov.\n",
      "16\n",
      "2018\n",
      "Nov.\n",
      "15\n",
      "2018\n",
      "Nov.\n",
      "15\n",
      "2018\n",
      "Nov.\n",
      "14\n",
      "2018\n"
     ]
    }
   ],
   "source": [
    "result2=[]\n",
    "result5=[]\n",
    "date = soup.select(\"time.date-stamp-container\")\n",
    "for n in date:\n",
    "    time = n.get_text()\n",
    "    result2.append(time)\n",
    "print(result2)\n",
    "for i in range(0,len(result2)):\n",
    "    month=result2[i].split(' ')[0]\n",
    "    day=result2[i].split(' ')[1]\n",
    "    finalday=day.replace(',', '')\n",
    "    year=result2[i].split(' ')[2]\n",
    "    result5.append(year)\n",
    "    print(month)\n",
    "    print(finalday)\n",
    "    print(year)"
   ]
  },
  {
   "cell_type": "code",
   "execution_count": 153,
   "metadata": {},
   "outputs": [
    {
     "name": "stdout",
     "output_type": "stream",
     "text": [
      " Hester Peirce, a Republican member of the SEC with libertarian leanings, has won fans in the cryptocurrency community with her approach to regulating the market. \n",
      " Bills and pocket change are fading. ‘A Fistful of Bitcoin,’ anyone? \n",
      " Bitcoin slumped about 70% in 2018, erasing $160 billion of digital wealth in a move that exposed the cryptocurrency market’s shaky footing. \n",
      " Capital and investors from traditional markets have flowed into cryptocurrencies, making some of them behave like traditional assets—just far, far riskier. \n",
      " The popping of the crypto bubble has been painful, but a quick sale (and repurchase, if you choose) before the end of the year may lower your taxes \n",
      " The first futures contract that will pay out in cryptocurrency rather than cash is expected to soon get regulatory approval. \n",
      " A former banker who was one of the most high-profile executives to jump to the blockchain industry is stepping down as chief executive of Digital Asset. \n",
      " Even after it soared a million percent, cryptocurrency boosters denied it was a bubble—and they weren’t wrong. \n",
      " Cryptocurrency companies are laying off employees in an effort to survive the nascent market’s biggest selloff to date. Blockchain venture firm ConsenSys said Thursday it plans to cut 13% of its staff. \n",
      " The funds focus on trade disputes, marijuana, AI and more, but many struggle to gain investor interest. \n",
      " Two men who were already indicted in New Jersey in connection with a broad cyber crime and extortion scheme now face new federal charges in Georgia. \n",
      " The U.S. Treasury Department imposed sanctions on two Iranian men the administration said laundered ransomed bitcoin from a major cyberattack that hit U.S. cities, hospitals and other critical networks. \n",
      " Bitcoin slumped 10%, continuing a steep slide and bucking a modest rebound in stocks and oil. \n",
      " Ohio appears set to become the first state to accept bitcoin for tax bills, a show of support for a technology that has garnered lots of hype but failed to gain traction as a form of payment. \n",
      " Overstock.com’s CEO doesn’t care that his blockchain-based trading system is burning through money. He remains a true believer in the technology—and its potential for multibillion-dollar returns. \n",
      " The price of bitcoin dropped 9% on Tuesday, a day after it fell below $5,000 for the first time since October 2017. The cryptocurrency is down 78% from its all-time high of $19,800 in December. \n",
      " The previous stockpiling habits of cryptocurrency miners have left Nvidia to battle with excess graphics-card inventory. \n",
      " Nvidia shares tumbled 18% after the chip maker projected declining revenue for the current quarter as it works through excess inventory left over from the cryptocurrency boom. \n",
      " The SEC is investigating a company’s cryptocurrency sale, an executive with the firm said, and people familiar with the probe said it includes looking at whether a prominent bitcoin entrepreneur broke the law by getting involved with the company’s fundraising. \n",
      " After 2017’s manic rally and this year’s steep plunge, cryptocurrency markets had been unusually calm in recent months. That lull has come to an end. \n"
     ]
    }
   ],
   "source": [
    "result3=[]\n",
    "summary = soup.select(\"div.summary-container\")\n",
    "for n in summary:\n",
    "    summary = n.get_text()\n",
    "    result3.append(summary)\n",
    "    print(summary)"
   ]
  },
  {
   "cell_type": "code",
   "execution_count": 158,
   "metadata": {},
   "outputs": [],
   "source": [
    "final=[]\n",
    "import pandas as pd\n",
    "date=pd.DataFrame(data=list(result2),columns=['Date'])\n",
    "date['Title'] = result\n",
    "date['Summary']=result3\n",
    "date['Category']=result1\n",
    "date.to_csv('WSJ.csv',mode='a',header=False)\n",
    "\n",
    "#title=pd.DataFrame(data=list(result),columns=['Title'])\n",
    "#title.to_csv('WSJ.csv')"
   ]
  },
  {
   "cell_type": "code",
   "execution_count": null,
   "metadata": {},
   "outputs": [],
   "source": []
  },
  {
   "cell_type": "code",
   "execution_count": null,
   "metadata": {},
   "outputs": [],
   "source": []
  }
 ],
 "metadata": {
  "kernelspec": {
   "display_name": "Python 3",
   "language": "python",
   "name": "python3"
  },
  "language_info": {
   "codemirror_mode": {
    "name": "ipython",
    "version": 3
   },
   "file_extension": ".py",
   "mimetype": "text/x-python",
   "name": "python",
   "nbconvert_exporter": "python",
   "pygments_lexer": "ipython3",
   "version": "3.7.3"
  }
 },
 "nbformat": 4,
 "nbformat_minor": 2
}
