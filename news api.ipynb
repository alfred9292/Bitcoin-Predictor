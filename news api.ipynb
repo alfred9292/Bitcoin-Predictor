{
 "cells": [
  {
   "cell_type": "code",
   "execution_count": 11,
   "metadata": {},
   "outputs": [],
   "source": [
    "from newsapi import NewsApiClient\n",
    "import json\n",
    "import csv"
   ]
  },
  {
   "cell_type": "code",
   "execution_count": 9,
   "metadata": {},
   "outputs": [],
   "source": [
    "newsapi = NewsApiClient(api_key='3c3c159c586940cbb09ee6ec61d3f711')\n",
    "all_articles = newsapi.get_everything(q='bitcoin',\n",
    "                                      sources='bbc-news,the-wall-street-journal',\n",
    "                                      from_param='2019-03-08',\n",
    "                                      to='2019-04-07',\n",
    "                                      language='en',\n",
    "                                      sort_by='relevancy'\n",
    "                                     )"
   ]
  },
  {
   "cell_type": "code",
   "execution_count": 12,
   "metadata": {},
   "outputs": [
    {
     "name": "stdout",
     "output_type": "stream",
     "text": [
      "{'status': 'ok', 'totalResults': 9, 'articles': [{'source': {'id': 'bbc-news', 'name': 'BBC News'}, 'author': 'https://www.facebook.com/bbcnews', 'title': 'Why are Venezuelans seeking refuge in crypto-currencies?', 'description': 'As Venezuela staggers under political and economic crises, its citizens are embracing digital money.', 'url': 'https://www.bbc.co.uk/news/business-47553048', 'urlToImage': 'https://ichef.bbci.co.uk/news/1024/branded_news/14D4/production/_106023350_pic_2.jpg', 'publishedAt': '2019-03-19T00:05:37Z', 'content': \"Image copyrightMegan JanetskyImage caption\\r\\n Eli Meregote uses crypto-currencies to send money home to Venezuela\\r\\nCrypto-currencies have faced a lot of criticism since Bitcoin first came on the scene 10 years ago. But for one group of people, they're proving … [+6304 chars]\"}, {'source': {'id': 'the-wall-street-journal', 'name': 'The Wall Street Journal'}, 'author': 'Paul Vigna', 'title': 'Most Bitcoin Trading Faked by Unregulated Exchanges, Study Finds', 'description': 'Nearly 95% of all reported trading in bitcoin is artificially created by unregulated exchanges, a new study concludes, raising fresh doubts about the nascent market following a steep decline in prices over the past year.', 'url': 'https://www.wsj.com/articles/most-bitcoin-trading-faked-by-unregulated-exchanges-study-finds-11553259600', 'urlToImage': 'https://images.wsj.net/im-60907/social', 'publishedAt': '2019-03-22T14:37:07Z', 'content': 'Nearly 95% of all reported trading in bitcoin is artificially created by unregulated exchanges, a new study concludes, raising fresh doubts about the nascent market following a steep decline in prices over the past year.\\r\\nFraudulent trading volume has dogged … [+273 chars]'}, {'source': {'id': 'the-wall-street-journal', 'name': 'The Wall Street Journal'}, 'author': 'Paul Vigna', 'title': 'BITCOIN IN DUMPS; GLOOM OVER CRYPTOS...', 'description': 'Bitcoin is in the longest slump of its 10-year history, forcing supporters to shelve dreams of global disruption and focus simply on outlasting the downturn.', 'url': 'https://www.wsj.com/articles/bitcoin-is-in-the-dumps-spreading-gloom-over-crypto-world-11552927208', 'urlToImage': 'https://images.wsj.net/im-60734/social', 'publishedAt': '2019-03-20T03:07:37Z', 'content': 'Bitcoin is in the longest slump of its 10-year history. That is forcing even its most ardent supporters to shelve dreams of global disruption and focus on simply tightening their belts long enough to outlast the downturn.\\r\\nSigns of the crypto winter are every… [+271 chars]'}, {'source': {'id': 'bbc-news', 'name': 'BBC News'}, 'author': 'https://www.facebook.com/bbcnews', 'title': 'Hated and Hunted', 'description': 'The perilous life of the computer virus cracker who makes powerful enemies online', 'url': 'https://www.bbc.co.uk/news/resources/idt-sh/hated_and_hunted_the_computer_virus_malware_ransomware_cracker', 'urlToImage': 'https://news.files.bbci.co.uk/vj/live/idt-images/shorthand-hated_and_hunted_the_computer_virus_malware_ransomware_cracker/976x500-FABIAN-FB-TWITTER_84v3a.jpg', 'publishedAt': '2019-03-17T02:02:45Z', 'content': 'We are never completely sure who we are dealing with, but my guess is that I have upset or angered around 100 different cyber gangs over the past few years, says Fabian. \\r\\nWriting code is like writing a novel. You can tell from the style. You can tell that yo… [+9919 chars]'}, {'source': {'id': 'bbc-news', 'name': 'BBC News'}, 'author': 'https://www.facebook.com/bbcnews', 'title': 'Twitter birth-year hoax locks users out of accounts', 'description': \"The social network says that changing your birth year to 2007 won't launch a colourful design on the site.\", 'url': 'https://www.bbc.co.uk/news/technology-47718704', 'urlToImage': 'https://ichef.bbci.co.uk/news/1024/branded_news/15B75/production/_106194988_gettyimages-1128759542.jpg', 'publishedAt': '2019-03-27T12:03:31Z', 'content': \"Image copyrightGetty ImagesImage caption\\r\\n Users won't get a new colour scheme on the Twitter app if they change their birth year, the social network says\\r\\nTwitter has warned users to ignore a hoax suggesting an alternative colour scheme will appear in the ap… [+1500 chars]\"}, {'source': {'id': 'bbc-news', 'name': 'BBC News'}, 'author': 'https://www.facebook.com/bbcnews', 'title': 'What is Revolut?', 'description': 'Why is fin-tech firm Revolut so controversial? The BBC explains.', 'url': 'https://www.bbc.co.uk/news/business-47768661', 'urlToImage': 'https://ichef.bbci.co.uk/news/1024/branded_news/15E7E/production/_106262798_revolut1.jpg', 'publishedAt': '2019-04-01T23:01:31Z', 'content': 'Image copyrightSOPA Images\\r\\nBritish financial technology company Revolut has been in the news frequently in recent months.\\r\\nThe firm, which provides mobile app-based current accounts as an alternative to physical banks, has been referred by some as a \"tech su… [+6277 chars]'}, {'source': {'id': 'bbc-news', 'name': 'BBC News'}, 'author': 'https://www.facebook.com/bbcnews', 'title': \"What's the new weapon against money laundering gangsters?\", 'description': 'Can advanced technologies help track the cash criminals try to hide?', 'url': 'https://www.bbc.co.uk/news/business-47772362', 'urlToImage': 'https://ichef.bbci.co.uk/news/1024/branded_news/6649/production/_106258162_gettyimages-515143012.jpg', 'publishedAt': '2019-04-01T23:13:09Z', 'content': 'Image copyrightGetty ImagesImage caption\\r\\n Gangster Al Capone was eventually convicted of tax evasion in 1931\\r\\nMoney laundering accounts for up to 5% of global GDP - or $2tn (£1.5tn) - every year, says the United Nations Office on Drugs and Crime. So banks an… [+6632 chars]'}, {'source': {'id': 'bbc-news', 'name': 'BBC News'}, 'author': 'BBC World Service', 'title': 'The crypto factor: the winners and losers in virtual investment', 'description': \"You can't take money with you when you die.... or can you? In this episode of Assignment the stranger than fiction story that's the latest cryptocurrency scandal to leave tens of thousands of people out of pocket. The news about QuadrigaCX broke almost to the…\", 'url': 'https://www.bbc.co.uk/programmes/p07461t1', 'urlToImage': 'https://ichef.bbci.co.uk/images/ic/1200x675/p073nlcz.jpg', 'publishedAt': '2019-03-21T13:45:00Z', 'content': \"You can't take money with you when you die.... or can you? In this episode of Assignment the stranger than fiction story that's the latest cryptocurrency scandal to leave tens of thousands of people out of pocket. The news about QuadrigaCX broke almost to the… [+536 chars]\"}, {'source': {'id': 'bbc-news', 'name': 'BBC News'}, 'author': 'https://www.facebook.com/bbcnews', 'title': 'How do you know where your olive oil really comes from?', 'description': 'New technologies are helping track the provenance of food throughout the supply chain.', 'url': 'https://www.bbc.co.uk/news/business-47553054', 'urlToImage': 'https://ichef.bbci.co.uk/news/1024/branded_news/11834/production/_106023717_mediaitem106023716.jpg', 'publishedAt': '2019-03-22T00:13:05Z', 'content': \"Image copyrightoracleImage caption\\r\\n How do you know your extra virgin hasn't been mixed with inferior oils?\\r\\nWhen you pick up a bottle of extra virgin olive oil from the supermarket shelf, how confident are you that it's all that it seems?\\r\\nThe olives have h… [+6438 chars]\"}]}\n"
     ]
    }
   ],
   "source": [
    "print(all_articles)\n",
    "data = all_articles['articles']\n",
    "result = open('news.csv', 'w')\n",
    "csvwriter = csv.writer(result)\n",
    "\n",
    "count = 0\n",
    "\n",
    "for sample in data:\n",
    "\n",
    "      if count == 0:\n",
    "\n",
    "             header = sample.keys()\n",
    "\n",
    "             csvwriter.writerow(header)\n",
    "\n",
    "             count += 1\n",
    "\n",
    "      csvwriter.writerow(sample.values())\n",
    "\n",
    "result.close()"
   ]
  },
  {
   "cell_type": "code",
   "execution_count": null,
   "metadata": {},
   "outputs": [],
   "source": []
  }
 ],
 "metadata": {
  "kernelspec": {
   "display_name": "Python 3",
   "language": "python",
   "name": "python3"
  },
  "language_info": {
   "codemirror_mode": {
    "name": "ipython",
    "version": 3
   },
   "file_extension": ".py",
   "mimetype": "text/x-python",
   "name": "python",
   "nbconvert_exporter": "python",
   "pygments_lexer": "ipython3",
   "version": "3.7.3"
  }
 },
 "nbformat": 4,
 "nbformat_minor": 2
}
